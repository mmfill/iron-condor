{
 "cells": [
  {
   "cell_type": "markdown",
   "metadata": {},
   "source": [
    "## Notebook for training for stock price with rolling fit and rolling forecast\n",
    "Forecast for last 10% of data. Fit is done in steps of 5 days, forecast is done day by day.\n",
    "- Sequential model\n",
    "- LSTM model\n",
    "- not stationary\n",
    "- rolling fit\n",
    "- rolling forecast"
   ]
  },
  {
   "cell_type": "code",
   "execution_count": 1,
   "metadata": {},
   "outputs": [
    {
     "name": "stderr",
     "output_type": "stream",
     "text": [
      "Using TensorFlow backend.\n"
     ]
    }
   ],
   "source": [
    "import pandas as pd\n",
    "import matplotlib.pyplot as plt\n",
    "from mpl_toolkits.mplot3d import Axes3D\n",
    "from matplotlib import cm\n",
    "import numpy as np\n",
    "import scipy.stats as si\n",
    "from IPython.display import Image\n",
    "import datetime\n",
    "import time\n",
    "\n",
    "from keras.models import Sequential\n",
    "from keras.layers.core import Dense, Activation, Dropout\n",
    "from keras.layers import LSTM\n",
    "from sklearn import preprocessing, metrics\n",
    "\n",
    "%matplotlib inline"
   ]
  },
  {
   "cell_type": "code",
   "execution_count": 2,
   "metadata": {},
   "outputs": [],
   "source": [
    "backup = pd.HDFStore('backup_v06.h5')\n",
    "#df = backup['df']\n",
    "#unscaled_seq_predictions = backup['unscaled_seq_predictions']\n",
    "#unscaled_data = backup['unscaled_data']\n",
    "#unscaled_lstm_predictions = backup['unscaled_lstm_predictions']\n",
    "#test_data_unscaled = backup['test_data_unscaled']"
   ]
  },
  {
   "cell_type": "markdown",
   "metadata": {},
   "source": [
    "### Iron Condor\n",
    "The iron condor is a investment strategy using four option with the same strike date. More precise, the iron condor uses two vertical spreads, one put spread and a call spread. The put spread consists at of a short put option (P_s) with a strike price below the actual stock price and a long put option (P_l) with a strike price below the short put option P_s. The call spread consists of a short call option (C_s) above the actual stock price and a long call option (C_l) above the short call option C_s. All options have the same strike date and the spread on both legs can vary but is chosen mostly the same.\n",
    "![title](Condor_strategy.png)\n",
    "\"A trader who buys an iron condor speculates that the spot price of the underlying instrument will be between the short strikes when the options expire where the position is the most profitable. Thus, the iron condor is an options strategy considered when the trader has a neutral outlook for the market. Buying iron condors are popular with traders who seek regular income from their trading capital. An iron condor buyer will attempt to construct the trade so that the short strikes are close enough that the position will earn a desirable net credit, but wide enough apart so that it is likely that the spot price of the underlying will remain between the short strikes for the duration of the options contract. The trader would typically play iron condors every month (if possible) thus generating monthly income with the strategy.\" [https://en.wikipedia.org/wiki/Iron_condor]\n",
    "\n",
    "### Goal of the project\n",
    "The goal of the project is to find a strategy to maximise the profit with an iron condor. The ideal short and long spreads should be found at any time based on data of the underlying stock and of the indices S&P500 and Nasdaq"
   ]
  },
  {
   "cell_type": "code",
   "execution_count": 4,
   "metadata": {},
   "outputs": [],
   "source": [
    "def get_data(var_name,name):\n",
    "    # reads in csv into DataFrame, keeps Adj Close and Volume and calculates rolling averages and \n",
    "    # rolling standard deviation of Adj Close for 4, 9 and 18 days\n",
    "    # var_name: path to csv file\n",
    "    # name: name of the column df\n",
    "    df = pd.read_csv('data/'+var_name+'.csv',index_col='Date', parse_dates=True)\n",
    "    df.rename(columns={\"Adj Close\": name, \"Volume\": name+'_volume', \"Open\": name+'_open'}, inplace = True)\n",
    "    df.rename(columns={\"High\": name+'_high', \"Low\": name+'_low', \"Close\": name+'_close'}, inplace = True)\n",
    "    #df.drop(['Open','High','Low','Close'],axis=1, inplace = True)\n",
    "    #if name == 'google':\n",
    "        #df['google_45d'] = df['google'].shift(-32) # stock price in 45 days (approx. 32 trading days)\n",
    "    df[name+'_ra_04'] = df[name].rolling('4d').mean()\n",
    "    df[name+'_std_04'] = df[name].rolling('4d').std()\n",
    "    df[name+'_ra_09'] = df[name].rolling('9d').mean()\n",
    "    df[name+'_std_09'] = df[name].rolling('9d').std()\n",
    "    df[name+'_ra_18'] = df[name].rolling('18d').mean()\n",
    "    df[name+'_std_18'] = df[name].rolling('18d').std()\n",
    "    return df"
   ]
  },
  {
   "cell_type": "code",
   "execution_count": 5,
   "metadata": {},
   "outputs": [],
   "source": [
    "def sigma_fct(df, name, days = 10):\n",
    "    # For Black-Scholes I need the volatility of return of the underlying assets in the last days\n",
    "    # based on https://www.wikihow.com/Calculate-Historical-Stock-Volatility\n",
    "    # First the ln of daily returns is calculated for each element of names\n",
    "    for name in names:\n",
    "        a=pd.DataFrame()\n",
    "        a['ln_daily_return'] = np.log(df[name] / df[name].shift(1))\n",
    "        # next the rolling average (mean) over certain days is calculated\n",
    "        a['rol_avg'] =  a['ln_daily_return'].rolling(str(days)+'d').mean()\n",
    "        # next deviation from the mean is calculated\n",
    "        a['dev_mean'] = a['ln_daily_return'] - a['rol_avg']\n",
    "        # next variance is calculated for certain days\n",
    "        a['dev_mean_sq'] = a['dev_mean']**2\n",
    "        a['variance'] = a['dev_mean_sq'].rolling(str(days)+'d').sum()/(a['dev_mean_sq'].rolling(str(days)+'d').count()-1)\n",
    "        # volatility is square root of variance\n",
    "        # do you need annual volatility?\n",
    "        df[name + '_daily_vol'] = np.sqrt(a['variance'])*np.sqrt(252) # 252 trading days in a year\n",
    "        #df.drop(['ln_daily_return'])#,'rol_avg','dev_mean','dev_mean_sq','variance'])\n",
    "        #return df[name + '_daily_vol']\n",
    "    return df"
   ]
  },
  {
   "cell_type": "code",
   "execution_count": 7,
   "metadata": {},
   "outputs": [],
   "source": [
    "def stationary_timeseries(df, damned_list = ['volume','std','short','daily']):\n",
    "    # makes columns in df that are not in damned list stationary. Means it calculates the \n",
    "    # difference row by row\n",
    "    columns = df.columns\n",
    "    df_sta = pd.DataFrame()\n",
    "    for column in columns:\n",
    "        if any(elem in column for elem in damned_list):\n",
    "            df_sta[column] = df[column]\n",
    "        else:\n",
    "            df_sta[column+'_sta'] = df[column].shift(1) - df[column]\n",
    "    df_sta.dropna(inplace = True)  # to make sure we have all the data on all the days\n",
    "    return df_sta"
   ]
  },
  {
   "cell_type": "code",
   "execution_count": 8,
   "metadata": {},
   "outputs": [],
   "source": [
    "def get_df(var_name_list,name_list):\n",
    "    # takes list paths of csv files and names and passes it on to get_data.\n",
    "    # Gets df from get_data and merges them on 'Date'\n",
    "    # Calls sigma_fct to get sigma of daily returns \n",
    "    # var_name_list: list of paths to csv files\n",
    "    # name: list of names the columns of df\n",
    "    i=0\n",
    "    for var_name in var_name_list:\n",
    "        if i == 0:\n",
    "            df = get_data(var_name, name_list[i])\n",
    "        else:\n",
    "            df = pd.merge(df,get_data(var_name, name_list[i]),on='Date')\n",
    "        i += 1\n",
    "    df.dropna(inplace = True)  # to make sure we have all the data on all the days\n",
    "    \n",
    "    df = sigma_fct(df,names)\n",
    "    df=df[23:] # drop first entries to get clean results\n",
    "\n",
    "    return df"
   ]
  },
  {
   "cell_type": "code",
   "execution_count": 9,
   "metadata": {},
   "outputs": [],
   "source": [
    "def get_target_data(df, name):\n",
    "    # function to create the target data\n",
    "    # name: name of the column the target data is created of\n",
    "    df[name+'_45d'] = df[name].shift(-32) # stock price in 45 days (approx. 32 trading days)\n",
    "    df.dropna(inplace = True)  # to make sure we have all the data on all the days\n",
    "    # df['short_call'] shows the perfect short call. If you would have shorted a call option with a strike price \n",
    "    # exactly the same as the stock price 45 days later, you made maximum profit. Therefore this is the target \n",
    "    # value for the short call option. The minimum is 0, so we never short a call option with a strike price\n",
    "    # below the stock price right now. The same for the short put option\n",
    "    #df['short_call'] = [x/y-1 if x/y > 1 else 0 for x,y in df[[name+'_45d', name]].values]\n",
    "    #df['short_put'] = [1-x/y if x/y < 1 else 0 for x,y in df[[name+'_45d', name]].values]\n",
    "    return df"
   ]
  },
  {
   "cell_type": "code",
   "execution_count": 10,
   "metadata": {
    "scrolled": true
   },
   "outputs": [
    {
     "data": {
      "text/html": [
       "<div>\n",
       "<style scoped>\n",
       "    .dataframe tbody tr th:only-of-type {\n",
       "        vertical-align: middle;\n",
       "    }\n",
       "\n",
       "    .dataframe tbody tr th {\n",
       "        vertical-align: top;\n",
       "    }\n",
       "\n",
       "    .dataframe thead th {\n",
       "        text-align: right;\n",
       "    }\n",
       "</style>\n",
       "<table border=\"1\" class=\"dataframe\">\n",
       "  <thead>\n",
       "    <tr style=\"text-align: right;\">\n",
       "      <th></th>\n",
       "      <th>google_open</th>\n",
       "      <th>google_high</th>\n",
       "      <th>google_low</th>\n",
       "      <th>google_close</th>\n",
       "      <th>google</th>\n",
       "      <th>google_volume</th>\n",
       "      <th>google_ra_04</th>\n",
       "      <th>google_std_04</th>\n",
       "      <th>google_ra_09</th>\n",
       "      <th>google_std_09</th>\n",
       "      <th>...</th>\n",
       "      <th>nasdaq_ra_04</th>\n",
       "      <th>nasdaq_std_04</th>\n",
       "      <th>nasdaq_ra_09</th>\n",
       "      <th>nasdaq_std_09</th>\n",
       "      <th>nasdaq_ra_18</th>\n",
       "      <th>nasdaq_std_18</th>\n",
       "      <th>google_daily_vol</th>\n",
       "      <th>s&amp;p_daily_vol</th>\n",
       "      <th>nasdaq_daily_vol</th>\n",
       "      <th>google_45d</th>\n",
       "    </tr>\n",
       "    <tr>\n",
       "      <th>Date</th>\n",
       "      <th></th>\n",
       "      <th></th>\n",
       "      <th></th>\n",
       "      <th></th>\n",
       "      <th></th>\n",
       "      <th></th>\n",
       "      <th></th>\n",
       "      <th></th>\n",
       "      <th></th>\n",
       "      <th></th>\n",
       "      <th></th>\n",
       "      <th></th>\n",
       "      <th></th>\n",
       "      <th></th>\n",
       "      <th></th>\n",
       "      <th></th>\n",
       "      <th></th>\n",
       "      <th></th>\n",
       "      <th></th>\n",
       "      <th></th>\n",
       "      <th></th>\n",
       "    </tr>\n",
       "  </thead>\n",
       "  <tbody>\n",
       "    <tr>\n",
       "      <th>2008-11-21</th>\n",
       "      <td>130.764862</td>\n",
       "      <td>134.182053</td>\n",
       "      <td>123.188263</td>\n",
       "      <td>130.725006</td>\n",
       "      <td>130.725006</td>\n",
       "      <td>20565700</td>\n",
       "      <td>136.935478</td>\n",
       "      <td>8.750923</td>\n",
       "      <td>143.875715</td>\n",
       "      <td>10.798013</td>\n",
       "      <td>...</td>\n",
       "      <td>1392.540009</td>\n",
       "      <td>68.742234</td>\n",
       "      <td>1452.251430</td>\n",
       "      <td>95.188063</td>\n",
       "      <td>1541.462141</td>\n",
       "      <td>127.530682</td>\n",
       "      <td>0.716470</td>\n",
       "      <td>0.802275</td>\n",
       "      <td>0.738519</td>\n",
       "      <td>156.946732</td>\n",
       "    </tr>\n",
       "    <tr>\n",
       "      <th>2008-11-24</th>\n",
       "      <td>134.127258</td>\n",
       "      <td>134.470963</td>\n",
       "      <td>124.040070</td>\n",
       "      <td>128.239334</td>\n",
       "      <td>128.239334</td>\n",
       "      <td>20184700</td>\n",
       "      <td>129.482170</td>\n",
       "      <td>1.757636</td>\n",
       "      <td>137.580147</td>\n",
       "      <td>9.599201</td>\n",
       "      <td>...</td>\n",
       "      <td>1428.184998</td>\n",
       "      <td>61.992083</td>\n",
       "      <td>1420.705017</td>\n",
       "      <td>68.914436</td>\n",
       "      <td>1498.502503</td>\n",
       "      <td>101.345711</td>\n",
       "      <td>0.529842</td>\n",
       "      <td>0.864400</td>\n",
       "      <td>0.777819</td>\n",
       "      <td>155.761169</td>\n",
       "    </tr>\n",
       "    <tr>\n",
       "      <th>2008-11-25</th>\n",
       "      <td>133.838348</td>\n",
       "      <td>142.794769</td>\n",
       "      <td>133.160873</td>\n",
       "      <td>140.498383</td>\n",
       "      <td>140.498383</td>\n",
       "      <td>21623100</td>\n",
       "      <td>134.368858</td>\n",
       "      <td>8.668457</td>\n",
       "      <td>137.997038</td>\n",
       "      <td>8.831976</td>\n",
       "      <td>...</td>\n",
       "      <td>1468.375000</td>\n",
       "      <td>5.154837</td>\n",
       "      <td>1426.994298</td>\n",
       "      <td>65.073432</td>\n",
       "      <td>1483.279999</td>\n",
       "      <td>90.035297</td>\n",
       "      <td>0.833833</td>\n",
       "      <td>0.791313</td>\n",
       "      <td>0.710049</td>\n",
       "      <td>156.573120</td>\n",
       "    </tr>\n",
       "    <tr>\n",
       "      <th>2008-11-26</th>\n",
       "      <td>139.616684</td>\n",
       "      <td>147.178345</td>\n",
       "      <td>137.584305</td>\n",
       "      <td>145.499634</td>\n",
       "      <td>145.499634</td>\n",
       "      <td>12760800</td>\n",
       "      <td>138.079117</td>\n",
       "      <td>8.880829</td>\n",
       "      <td>137.425609</td>\n",
       "      <td>8.059325</td>\n",
       "      <td>...</td>\n",
       "      <td>1489.616659</td>\n",
       "      <td>36.971751</td>\n",
       "      <td>1434.144287</td>\n",
       "      <td>74.235572</td>\n",
       "      <td>1487.035382</td>\n",
       "      <td>87.259170</td>\n",
       "      <td>0.812863</td>\n",
       "      <td>0.758392</td>\n",
       "      <td>0.707779</td>\n",
       "      <td>149.923050</td>\n",
       "    </tr>\n",
       "    <tr>\n",
       "      <th>2008-11-28</th>\n",
       "      <td>144.747452</td>\n",
       "      <td>147.671494</td>\n",
       "      <td>143.601746</td>\n",
       "      <td>145.933014</td>\n",
       "      <td>145.933014</td>\n",
       "      <td>5150200</td>\n",
       "      <td>143.977010</td>\n",
       "      <td>3.020363</td>\n",
       "      <td>136.698456</td>\n",
       "      <td>8.236770</td>\n",
       "      <td>...</td>\n",
       "      <td>1510.799967</td>\n",
       "      <td>39.935485</td>\n",
       "      <td>1450.814982</td>\n",
       "      <td>86.016593</td>\n",
       "      <td>1480.791532</td>\n",
       "      <td>79.789023</td>\n",
       "      <td>0.871477</td>\n",
       "      <td>0.804582</td>\n",
       "      <td>0.756923</td>\n",
       "      <td>148.936752</td>\n",
       "    </tr>\n",
       "  </tbody>\n",
       "</table>\n",
       "<p>5 rows × 40 columns</p>\n",
       "</div>"
      ],
      "text/plain": [
       "            google_open  google_high  google_low  google_close      google  \\\n",
       "Date                                                                         \n",
       "2008-11-21   130.764862   134.182053  123.188263    130.725006  130.725006   \n",
       "2008-11-24   134.127258   134.470963  124.040070    128.239334  128.239334   \n",
       "2008-11-25   133.838348   142.794769  133.160873    140.498383  140.498383   \n",
       "2008-11-26   139.616684   147.178345  137.584305    145.499634  145.499634   \n",
       "2008-11-28   144.747452   147.671494  143.601746    145.933014  145.933014   \n",
       "\n",
       "            google_volume  google_ra_04  google_std_04  google_ra_09  \\\n",
       "Date                                                                   \n",
       "2008-11-21       20565700    136.935478       8.750923    143.875715   \n",
       "2008-11-24       20184700    129.482170       1.757636    137.580147   \n",
       "2008-11-25       21623100    134.368858       8.668457    137.997038   \n",
       "2008-11-26       12760800    138.079117       8.880829    137.425609   \n",
       "2008-11-28        5150200    143.977010       3.020363    136.698456   \n",
       "\n",
       "            google_std_09  ...  nasdaq_ra_04  nasdaq_std_04  nasdaq_ra_09  \\\n",
       "Date                       ...                                              \n",
       "2008-11-21      10.798013  ...   1392.540009      68.742234   1452.251430   \n",
       "2008-11-24       9.599201  ...   1428.184998      61.992083   1420.705017   \n",
       "2008-11-25       8.831976  ...   1468.375000       5.154837   1426.994298   \n",
       "2008-11-26       8.059325  ...   1489.616659      36.971751   1434.144287   \n",
       "2008-11-28       8.236770  ...   1510.799967      39.935485   1450.814982   \n",
       "\n",
       "            nasdaq_std_09  nasdaq_ra_18  nasdaq_std_18  google_daily_vol  \\\n",
       "Date                                                                       \n",
       "2008-11-21      95.188063   1541.462141     127.530682          0.716470   \n",
       "2008-11-24      68.914436   1498.502503     101.345711          0.529842   \n",
       "2008-11-25      65.073432   1483.279999      90.035297          0.833833   \n",
       "2008-11-26      74.235572   1487.035382      87.259170          0.812863   \n",
       "2008-11-28      86.016593   1480.791532      79.789023          0.871477   \n",
       "\n",
       "            s&p_daily_vol  nasdaq_daily_vol  google_45d  \n",
       "Date                                                     \n",
       "2008-11-21       0.802275          0.738519  156.946732  \n",
       "2008-11-24       0.864400          0.777819  155.761169  \n",
       "2008-11-25       0.791313          0.710049  156.573120  \n",
       "2008-11-26       0.758392          0.707779  149.923050  \n",
       "2008-11-28       0.804582          0.756923  148.936752  \n",
       "\n",
       "[5 rows x 40 columns]"
      ]
     },
     "execution_count": 10,
     "metadata": {},
     "output_type": "execute_result"
    }
   ],
   "source": [
    "var_names = ['GOOG','S&P','Nasdaq2']\n",
    "names = ['google','s&p','nasdaq']\n",
    "df = get_df(var_names, names)\n",
    "df = get_target_data(df, 'google')\n",
    "df.head()"
   ]
  },
  {
   "cell_type": "code",
   "execution_count": 11,
   "metadata": {},
   "outputs": [],
   "source": [
    "backup['df'] = df"
   ]
  },
  {
   "cell_type": "markdown",
   "metadata": {},
   "source": [
    "### Price of options\n",
    "It is really hard to get data about historic stock options. Be it as api channel or csv download. I managed only to find sources to pay: 500 USD for every year. Because that is too expensive for this project I decided to calculate the option price with the **Black–Scholes formula**, which gives a theoretical estimate of the price of European-style options.\n",
    "\n",
    "Based on the formula for non-divident paying options I calculate the option prices and add a small random term to create a bit of noise."
   ]
  },
  {
   "cell_type": "code",
   "execution_count": 12,
   "metadata": {},
   "outputs": [],
   "source": [
    "def black_scholes(S, K, sigma, r=0.03, T=45/365, option = 'call'):\n",
    "    \n",
    "    #S: spot price\n",
    "    #K: strike price\n",
    "    #T: time to maturity in years, 45 days as default\n",
    "    #r: risk-free interest rate, assumed to be constant between t and T\n",
    "    #sigma: standard deviation (volatility) of RETURNS of underlying asset\n",
    "    \n",
    "    d1 = (np.log(S / K) + (r + 0.5 * sigma ** 2) * T) / (sigma * np.sqrt(T))\n",
    "    #d2 = (np.log(S / K) + (r - 0.5 * sigma ** 2) * T) / (sigma * np.sqrt(T))\n",
    "    d2 = d1 - sigma * np.sqrt(T)\n",
    "    \n",
    "    if option == 'call':\n",
    "        result = (S * si.norm.cdf(d1, 0.0, 1.0) - K * np.exp(-r * T) * si.norm.cdf(d2, 0.0, 1.0))\n",
    "    if option == 'put':\n",
    "        result = (K * np.exp(-r * T) * si.norm.cdf(-d2, 0.0, 1.0) - S * si.norm.cdf(-d1, 0.0, 1.0))\n",
    "        \n",
    "    return result"
   ]
  },
  {
   "cell_type": "code",
   "execution_count": 13,
   "metadata": {},
   "outputs": [],
   "source": [
    "def option_prices(date, short_spread, long_spread, strike_days = 45):\n",
    "    # calculates prices of options and calculates initial return (net premium)\n",
    "    date = date_fct(date)\n",
    "    P_s_strike_price, P_l_strike_price, C_s_strike_price, C_l_strike_price = strike_prices(date, short_spread, long_spread)\n",
    "    sigma = get_sigma(date)\n",
    "    stock_price = stock_price_fct(date)\n",
    "    P_s_price = black_scholes(stock_price, P_s_strike_price, sigma, T=strike_days/365, option = 'put')\n",
    "    P_l_price = black_scholes(stock_price, P_l_strike_price, sigma, T=strike_days/365, option = 'put')\n",
    "    C_s_price = black_scholes(stock_price, C_s_strike_price, sigma, T=strike_days/365, option = 'call')\n",
    "    C_l_price = black_scholes(stock_price, C_l_strike_price, sigma, T=strike_days/365, option = 'call')\n",
    "    initial_return = P_s_price + C_s_price - P_l_price - C_l_price\n",
    "    \n",
    "    return P_s_price, P_l_price, C_s_price, C_l_price, initial_return"
   ]
  },
  {
   "cell_type": "markdown",
   "metadata": {},
   "source": [
    "Now it is time to calculate the strike prices and option prices of all 4 options and the initial return by setting up the iron condor"
   ]
  },
  {
   "cell_type": "markdown",
   "metadata": {},
   "source": [
    "### Calculate return of options\n",
    "There are five different regimes for the return. R: return, P(C) put(call) option, s(l): short(long), ir: initial return, stock_price: stock price\n",
    "- stock price is below long put option: R = ir + P_l_strike_price - P_s_strike_price\n",
    "- stock price is between long and short put option: R = ir + stock_price - P_s_strike_price\n",
    "- stock price is between short call and short put option: R = ir\n",
    "- stock price is between short and long call option: R = ir - stock_price + C_s_strike price\n",
    "- stock price is above long call option: R = ir - C_l_strike_price + C_s_strike_price"
   ]
  },
  {
   "cell_type": "markdown",
   "metadata": {},
   "source": [
    "#### Define return function of iron condor"
   ]
  },
  {
   "cell_type": "code",
   "execution_count": 14,
   "metadata": {},
   "outputs": [],
   "source": [
    "def ic_return(trading_date, short_spread, long_spread, strike_days = 45):\n",
    "    P_s_strike_price, P_l_strike_price, C_s_strike_price, C_l_strike_price = strike_prices(trading_date, short_spread, long_spread)\n",
    "    P_s_price, P_l_price, C_s_price, C_l_price, initial_return = option_prices(trading_date,short_spread, long_spread, strike_days)\n",
    "    strike_date = date_fct(trading_date, 45)\n",
    "    final_stock_price = stock_price_fct(strike_date)\n",
    "    if final_stock_price < P_l_strike_price:\n",
    "        final_result = initial_return + P_l_strike_price - P_s_strike_price\n",
    "    elif final_stock_price >= P_l_strike_price and final_stock_price < P_s_strike_price:\n",
    "        final_result = initial_return + stock_price - P_s_strike_price\n",
    "    elif final_stock_price >= P_s_strike_price and final_stock_price < C_s_strike_price:\n",
    "        final_result = initial_return\n",
    "    elif final_stock_price >= C_s_strike_price and final_stock_price < C_l_strike_price:\n",
    "        final_result = initial_return - final_stock_price + C_s_strike_price\n",
    "    elif final_stock_price >= C_l_strike_price:\n",
    "        final_result = initial_return - C_l_strike_price + C_s_strike_price\n",
    "    maximum_result = initial_return\n",
    "    return final_result"
   ]
  },
  {
   "cell_type": "markdown",
   "metadata": {},
   "source": [
    "### Building the model"
   ]
  },
  {
   "cell_type": "markdown",
   "metadata": {},
   "source": [
    "#### Scale data"
   ]
  },
  {
   "cell_type": "code",
   "execution_count": 15,
   "metadata": {},
   "outputs": [
    {
     "name": "stderr",
     "output_type": "stream",
     "text": [
      "/home/matthias/anaconda3/lib/python3.7/site-packages/sklearn/preprocessing/data.py:334: DataConversionWarning: Data with input dtype int64, float64 were all converted to float64 by MinMaxScaler.\n",
      "  return self.partial_fit(X, y)\n"
     ]
    }
   ],
   "source": [
    "scaler = preprocessing.MinMaxScaler(feature_range=(-1, 1))\n",
    "df_scaled = pd.DataFrame(scaler.fit_transform(df), columns=df.columns, index = df.index)"
   ]
  },
  {
   "cell_type": "markdown",
   "metadata": {},
   "source": [
    "#### Split into train and test set"
   ]
  },
  {
   "cell_type": "code",
   "execution_count": 16,
   "metadata": {},
   "outputs": [],
   "source": [
    "def get_train_test_data(data, train_test_split, batch_size):\n",
    "    # data is dataframe to get train test data out of\n",
    "    train_size_raw = data.shape[0]*train_test_split\n",
    "    train_size = int(train_size_raw - train_size_raw % batch_size) # make train_size multiple of batch_size for \"statefull = True\" in LSTM\n",
    "    train_data = data.iloc[0:train_size]\n",
    "    test_size_raw = data.shape[0] - train_size\n",
    "    test_size = int(test_size_raw - test_size_raw%batch_size) # multiple of batch_size\n",
    "    test_data = data.iloc[train_size : train_size + test_size]\n",
    "    x_train = train_data.drop(columns=['google_45d']) # google_45d is not for training, just for reversing stationarity\n",
    "    y_train = train_data['google_45d']\n",
    "    x_test = test_data.drop(columns=['google_45d'])\n",
    "    y_test = test_data['google_45d']\n",
    "    train_index=x_train.index\n",
    "    x_columns = x_train.columns\n",
    "    test_index = x_test.index\n",
    "    return x_train, x_test, y_train, y_test, test_data, test_index, x_columns"
   ]
  },
  {
   "cell_type": "code",
   "execution_count": 17,
   "metadata": {},
   "outputs": [],
   "source": [
    "batch_size = 10\n",
    "train_test_split = 0.9\n",
    "x_train, x_test, y_train, y_test, test_data, test_index, x_columns = get_train_test_data(df_scaled, train_test_split, batch_size)"
   ]
  },
  {
   "cell_type": "markdown",
   "metadata": {},
   "source": [
    "### Sequential model"
   ]
  },
  {
   "cell_type": "code",
   "execution_count": 18,
   "metadata": {},
   "outputs": [
    {
     "name": "stdout",
     "output_type": "stream",
     "text": [
      "WARNING:tensorflow:From /home/matthias/anaconda3/lib/python3.7/site-packages/keras/backend/tensorflow_backend.py:74: The name tf.get_default_graph is deprecated. Please use tf.compat.v1.get_default_graph instead.\n",
      "\n",
      "WARNING:tensorflow:From /home/matthias/anaconda3/lib/python3.7/site-packages/keras/backend/tensorflow_backend.py:517: The name tf.placeholder is deprecated. Please use tf.compat.v1.placeholder instead.\n",
      "\n",
      "WARNING:tensorflow:From /home/matthias/anaconda3/lib/python3.7/site-packages/keras/backend/tensorflow_backend.py:4138: The name tf.random_uniform is deprecated. Please use tf.random.uniform instead.\n",
      "\n",
      "WARNING:tensorflow:From /home/matthias/anaconda3/lib/python3.7/site-packages/keras/backend/tensorflow_backend.py:133: The name tf.placeholder_with_default is deprecated. Please use tf.compat.v1.placeholder_with_default instead.\n",
      "\n",
      "WARNING:tensorflow:From /home/matthias/anaconda3/lib/python3.7/site-packages/keras/backend/tensorflow_backend.py:3445: calling dropout (from tensorflow.python.ops.nn_ops) with keep_prob is deprecated and will be removed in a future version.\n",
      "Instructions for updating:\n",
      "Please use `rate` instead of `keep_prob`. Rate should be set to `rate = 1 - keep_prob`.\n",
      "WARNING:tensorflow:From /home/matthias/anaconda3/lib/python3.7/site-packages/keras/optimizers.py:790: The name tf.train.Optimizer is deprecated. Please use tf.compat.v1.train.Optimizer instead.\n",
      "\n",
      "_________________________________________________________________\n",
      "Layer (type)                 Output Shape              Param #   \n",
      "=================================================================\n",
      "dense_1 (Dense)              (None, 128)               5120      \n",
      "_________________________________________________________________\n",
      "dropout_1 (Dropout)          (None, 128)               0         \n",
      "_________________________________________________________________\n",
      "dense_2 (Dense)              (None, 16)                2064      \n",
      "_________________________________________________________________\n",
      "dropout_2 (Dropout)          (None, 16)                0         \n",
      "_________________________________________________________________\n",
      "dense_3 (Dense)              (None, 4)                 68        \n",
      "_________________________________________________________________\n",
      "dropout_3 (Dropout)          (None, 4)                 0         \n",
      "_________________________________________________________________\n",
      "dense_4 (Dense)              (None, 1)                 5         \n",
      "=================================================================\n",
      "Total params: 7,257\n",
      "Trainable params: 7,257\n",
      "Non-trainable params: 0\n",
      "_________________________________________________________________\n"
     ]
    }
   ],
   "source": [
    "# Build the model architecture\n",
    "seq_model = Sequential()\n",
    "seq_model.add(Dense(128, activation='relu', input_shape=(x_train.shape[1],)))\n",
    "seq_model.add(Dropout(0.2))\n",
    "seq_model.add(Dense(16, activation='relu'))\n",
    "seq_model.add(Dropout(0.2))\n",
    "seq_model.add(Dense(4, activation='relu'))\n",
    "seq_model.add(Dropout(0.2))\n",
    "seq_model.add(Dense(1))\n",
    "\n",
    "# Compile the model using a loss function and an optimizer.\n",
    "seq_model.compile(optimizer='adam',loss='mean_squared_error')\n",
    "seq_model.summary()"
   ]
  },
  {
   "cell_type": "code",
   "execution_count": 19,
   "metadata": {},
   "outputs": [],
   "source": [
    "def rolling_seq_fit_pred(model,x_test,y_test,x_train,y_train):\n",
    "    predictions = []\n",
    "    epochs = 200\n",
    "    model.fit(x_train,y_train, epochs=epochs, batch_size=50, verbose=0);\n",
    "    counter = 0\n",
    "    for i in x_test.index:\n",
    "        counter+=1\n",
    "        if counter%5==0:  # every 5 trading days the model is retrained\n",
    "            model.reset_states()\n",
    "            model.fit(x_train,y_train, epochs=epochs, batch_size=50, verbose=0);\n",
    "        # make one-step forecast\n",
    "        X = x_test.loc[i].to_numpy().reshape(1,x_test.shape[1]) # reshape single line to have just 1 row\n",
    "        y = y_test.loc[i]\n",
    "        yhat = model.predict(X).reshape(1) # reshape prediction to be just a 1D array\n",
    "        predictions.append(yhat[0])\n",
    "        # add current x_test and y_test line to training data\n",
    "        if i != x_test.index[-1]:\n",
    "            x_train.loc[i] = x_test.loc[i]\n",
    "            y_train.loc[i] = y_test.loc[i]\n",
    "    return predictions"
   ]
  },
  {
   "cell_type": "code",
   "execution_count": 20,
   "metadata": {
    "scrolled": true
   },
   "outputs": [
    {
     "name": "stdout",
     "output_type": "stream",
     "text": [
      "WARNING:tensorflow:From /home/matthias/anaconda3/lib/python3.7/site-packages/keras/backend/tensorflow_backend.py:986: The name tf.assign_add is deprecated. Please use tf.compat.v1.assign_add instead.\n",
      "\n"
     ]
    },
    {
     "name": "stderr",
     "output_type": "stream",
     "text": [
      "/home/matthias/anaconda3/lib/python3.7/site-packages/ipykernel_launcher.py:19: SettingWithCopyWarning: \n",
      "A value is trying to be set on a copy of a slice from a DataFrame\n",
      "\n",
      "See the caveats in the documentation: http://pandas.pydata.org/pandas-docs/stable/indexing.html#indexing-view-versus-copy\n"
     ]
    },
    {
     "data": {
      "text/plain": [
       "841.8499984741211"
      ]
     },
     "execution_count": 20,
     "metadata": {},
     "output_type": "execute_result"
    }
   ],
   "source": [
    "start_seq = time.time()\n",
    "yhat = rolling_seq_fit_pred(seq_model,x_test,y_test,x_train,y_train)\n",
    "raw_seq_predictions = pd.DataFrame(yhat,columns = ['seq_prediction'], index = test_index)\n",
    "end_seq = time.time()\n",
    "time_seq = end_seq - start_seq\n",
    "time_seq"
   ]
  },
  {
   "cell_type": "code",
   "execution_count": 21,
   "metadata": {},
   "outputs": [],
   "source": [
    "# Invert scaling for prediction data\n",
    "x_test = pd.DataFrame(x_test, columns = x_columns, index = test_index)\n",
    "unscaled_seq_predictions = pd.concat([x_test, raw_seq_predictions], axis=1)\n",
    "#unscaled_seq_predictions = pd.concat([unscaled_seq_predictions, test_data.google_45d], axis=1)\n",
    "unscaled_seq_predictions = pd.DataFrame(scaler.inverse_transform(unscaled_seq_predictions), columns=unscaled_seq_predictions.columns, index=unscaled_seq_predictions.index)\n",
    "\n",
    "# Invert scaling for actual data\n",
    "unscaled_data = pd.concat([x_test, y_test], axis=1)\n",
    "#unscaled_data = pd.concat([unscaled_data, test_data.google_45d], axis=1)\n",
    "unscaled_data = pd.DataFrame(scaler.inverse_transform(unscaled_data), columns=unscaled_data.columns, index=unscaled_data.index)\n",
    "#unscaled_data = unscaled_data['google_45d_sta']"
   ]
  },
  {
   "cell_type": "code",
   "execution_count": 22,
   "metadata": {},
   "outputs": [],
   "source": [
    "backup['unscaled_seq_predictions'] = unscaled_seq_predictions\n",
    "backup['unscaled_data'] = unscaled_data"
   ]
  },
  {
   "cell_type": "code",
   "execution_count": 23,
   "metadata": {},
   "outputs": [
    {
     "data": {
      "text/html": [
       "<div>\n",
       "<style scoped>\n",
       "    .dataframe tbody tr th:only-of-type {\n",
       "        vertical-align: middle;\n",
       "    }\n",
       "\n",
       "    .dataframe tbody tr th {\n",
       "        vertical-align: top;\n",
       "    }\n",
       "\n",
       "    .dataframe thead th {\n",
       "        text-align: right;\n",
       "    }\n",
       "</style>\n",
       "<table border=\"1\" class=\"dataframe\">\n",
       "  <thead>\n",
       "    <tr style=\"text-align: right;\">\n",
       "      <th></th>\n",
       "      <th>google_open</th>\n",
       "      <th>google_high</th>\n",
       "      <th>google_low</th>\n",
       "      <th>google_close</th>\n",
       "      <th>google</th>\n",
       "      <th>google_volume</th>\n",
       "      <th>google_ra_04</th>\n",
       "      <th>google_std_04</th>\n",
       "      <th>google_ra_09</th>\n",
       "      <th>google_std_09</th>\n",
       "      <th>...</th>\n",
       "      <th>nasdaq_ra_04</th>\n",
       "      <th>nasdaq_std_04</th>\n",
       "      <th>nasdaq_ra_09</th>\n",
       "      <th>nasdaq_std_09</th>\n",
       "      <th>nasdaq_ra_18</th>\n",
       "      <th>nasdaq_std_18</th>\n",
       "      <th>google_daily_vol</th>\n",
       "      <th>s&amp;p_daily_vol</th>\n",
       "      <th>nasdaq_daily_vol</th>\n",
       "      <th>seq_prediction</th>\n",
       "    </tr>\n",
       "    <tr>\n",
       "      <th>Date</th>\n",
       "      <th></th>\n",
       "      <th></th>\n",
       "      <th></th>\n",
       "      <th></th>\n",
       "      <th></th>\n",
       "      <th></th>\n",
       "      <th></th>\n",
       "      <th></th>\n",
       "      <th></th>\n",
       "      <th></th>\n",
       "      <th></th>\n",
       "      <th></th>\n",
       "      <th></th>\n",
       "      <th></th>\n",
       "      <th></th>\n",
       "      <th></th>\n",
       "      <th></th>\n",
       "      <th></th>\n",
       "      <th></th>\n",
       "      <th></th>\n",
       "      <th></th>\n",
       "    </tr>\n",
       "  </thead>\n",
       "  <tbody>\n",
       "    <tr>\n",
       "      <th>2018-07-31</th>\n",
       "      <td>1220.010010</td>\n",
       "      <td>1227.588013</td>\n",
       "      <td>1205.599976</td>\n",
       "      <td>1217.260010</td>\n",
       "      <td>1217.260010</td>\n",
       "      <td>1644700.0</td>\n",
       "      <td>1218.500000</td>\n",
       "      <td>1.753611</td>\n",
       "      <td>1237.301409</td>\n",
       "      <td>24.147664</td>\n",
       "      <td>...</td>\n",
       "      <td>7650.895020</td>\n",
       "      <td>29.550020</td>\n",
       "      <td>7786.610073</td>\n",
       "      <td>109.258547</td>\n",
       "      <td>7805.587565</td>\n",
       "      <td>85.060270</td>\n",
       "      <td>0.307801</td>\n",
       "      <td>0.089192</td>\n",
       "      <td>0.152314</td>\n",
       "      <td>1054.129204</td>\n",
       "    </tr>\n",
       "    <tr>\n",
       "      <th>2018-08-01</th>\n",
       "      <td>1228.000000</td>\n",
       "      <td>1233.469971</td>\n",
       "      <td>1210.209961</td>\n",
       "      <td>1220.010010</td>\n",
       "      <td>1220.010010</td>\n",
       "      <td>1567200.0</td>\n",
       "      <td>1219.003337</td>\n",
       "      <td>1.515790</td>\n",
       "      <td>1239.374268</td>\n",
       "      <td>21.433011</td>\n",
       "      <td>...</td>\n",
       "      <td>7669.693359</td>\n",
       "      <td>38.687654</td>\n",
       "      <td>7767.384347</td>\n",
       "      <td>109.753646</td>\n",
       "      <td>7798.026217</td>\n",
       "      <td>85.881161</td>\n",
       "      <td>0.285090</td>\n",
       "      <td>0.083101</td>\n",
       "      <td>0.146205</td>\n",
       "      <td>1058.003240</td>\n",
       "    </tr>\n",
       "    <tr>\n",
       "      <th>2018-08-02</th>\n",
       "      <td>1205.900024</td>\n",
       "      <td>1229.880005</td>\n",
       "      <td>1204.790039</td>\n",
       "      <td>1226.150024</td>\n",
       "      <td>1226.150024</td>\n",
       "      <td>1531300.0</td>\n",
       "      <td>1220.790009</td>\n",
       "      <td>3.781604</td>\n",
       "      <td>1236.241420</td>\n",
       "      <td>21.550840</td>\n",
       "      <td>...</td>\n",
       "      <td>7702.942505</td>\n",
       "      <td>73.619602</td>\n",
       "      <td>7761.944336</td>\n",
       "      <td>106.402575</td>\n",
       "      <td>7798.359340</td>\n",
       "      <td>82.521365</td>\n",
       "      <td>0.271257</td>\n",
       "      <td>0.086055</td>\n",
       "      <td>0.164864</td>\n",
       "      <td>1071.019059</td>\n",
       "    </tr>\n",
       "    <tr>\n",
       "      <th>2018-08-03</th>\n",
       "      <td>1229.619995</td>\n",
       "      <td>1230.000000</td>\n",
       "      <td>1215.060059</td>\n",
       "      <td>1223.709961</td>\n",
       "      <td>1223.709961</td>\n",
       "      <td>1089600.0</td>\n",
       "      <td>1221.782501</td>\n",
       "      <td>3.932133</td>\n",
       "      <td>1230.528564</td>\n",
       "      <td>18.079647</td>\n",
       "      <td>...</td>\n",
       "      <td>7748.444946</td>\n",
       "      <td>69.648419</td>\n",
       "      <td>7744.768555</td>\n",
       "      <td>81.003961</td>\n",
       "      <td>7798.808594</td>\n",
       "      <td>82.581619</td>\n",
       "      <td>0.214106</td>\n",
       "      <td>0.085981</td>\n",
       "      <td>0.165144</td>\n",
       "      <td>1071.552692</td>\n",
       "    </tr>\n",
       "    <tr>\n",
       "      <th>2018-08-06</th>\n",
       "      <td>1225.000000</td>\n",
       "      <td>1226.088013</td>\n",
       "      <td>1215.796997</td>\n",
       "      <td>1224.770020</td>\n",
       "      <td>1224.770020</td>\n",
       "      <td>1081700.0</td>\n",
       "      <td>1224.239991</td>\n",
       "      <td>0.749575</td>\n",
       "      <td>1221.940003</td>\n",
       "      <td>3.444802</td>\n",
       "      <td>...</td>\n",
       "      <td>7835.844971</td>\n",
       "      <td>33.708070</td>\n",
       "      <td>7747.243327</td>\n",
       "      <td>90.494779</td>\n",
       "      <td>7792.345052</td>\n",
       "      <td>87.849464</td>\n",
       "      <td>0.151643</td>\n",
       "      <td>0.065983</td>\n",
       "      <td>0.139857</td>\n",
       "      <td>1050.835252</td>\n",
       "    </tr>\n",
       "  </tbody>\n",
       "</table>\n",
       "<p>5 rows × 40 columns</p>\n",
       "</div>"
      ],
      "text/plain": [
       "            google_open  google_high   google_low  google_close       google  \\\n",
       "Date                                                                           \n",
       "2018-07-31  1220.010010  1227.588013  1205.599976   1217.260010  1217.260010   \n",
       "2018-08-01  1228.000000  1233.469971  1210.209961   1220.010010  1220.010010   \n",
       "2018-08-02  1205.900024  1229.880005  1204.790039   1226.150024  1226.150024   \n",
       "2018-08-03  1229.619995  1230.000000  1215.060059   1223.709961  1223.709961   \n",
       "2018-08-06  1225.000000  1226.088013  1215.796997   1224.770020  1224.770020   \n",
       "\n",
       "            google_volume  google_ra_04  google_std_04  google_ra_09  \\\n",
       "Date                                                                   \n",
       "2018-07-31      1644700.0   1218.500000       1.753611   1237.301409   \n",
       "2018-08-01      1567200.0   1219.003337       1.515790   1239.374268   \n",
       "2018-08-02      1531300.0   1220.790009       3.781604   1236.241420   \n",
       "2018-08-03      1089600.0   1221.782501       3.932133   1230.528564   \n",
       "2018-08-06      1081700.0   1224.239991       0.749575   1221.940003   \n",
       "\n",
       "            google_std_09  ...  nasdaq_ra_04  nasdaq_std_04  nasdaq_ra_09  \\\n",
       "Date                       ...                                              \n",
       "2018-07-31      24.147664  ...   7650.895020      29.550020   7786.610073   \n",
       "2018-08-01      21.433011  ...   7669.693359      38.687654   7767.384347   \n",
       "2018-08-02      21.550840  ...   7702.942505      73.619602   7761.944336   \n",
       "2018-08-03      18.079647  ...   7748.444946      69.648419   7744.768555   \n",
       "2018-08-06       3.444802  ...   7835.844971      33.708070   7747.243327   \n",
       "\n",
       "            nasdaq_std_09  nasdaq_ra_18  nasdaq_std_18  google_daily_vol  \\\n",
       "Date                                                                       \n",
       "2018-07-31     109.258547   7805.587565      85.060270          0.307801   \n",
       "2018-08-01     109.753646   7798.026217      85.881161          0.285090   \n",
       "2018-08-02     106.402575   7798.359340      82.521365          0.271257   \n",
       "2018-08-03      81.003961   7798.808594      82.581619          0.214106   \n",
       "2018-08-06      90.494779   7792.345052      87.849464          0.151643   \n",
       "\n",
       "            s&p_daily_vol  nasdaq_daily_vol  seq_prediction  \n",
       "Date                                                         \n",
       "2018-07-31       0.089192          0.152314     1054.129204  \n",
       "2018-08-01       0.083101          0.146205     1058.003240  \n",
       "2018-08-02       0.086055          0.164864     1071.019059  \n",
       "2018-08-03       0.085981          0.165144     1071.552692  \n",
       "2018-08-06       0.065983          0.139857     1050.835252  \n",
       "\n",
       "[5 rows x 40 columns]"
      ]
     },
     "execution_count": 23,
     "metadata": {},
     "output_type": "execute_result"
    }
   ],
   "source": [
    "unscaled_seq_predictions.head()"
   ]
  },
  {
   "cell_type": "code",
   "execution_count": 24,
   "metadata": {},
   "outputs": [
    {
     "data": {
      "text/html": [
       "<div>\n",
       "<style scoped>\n",
       "    .dataframe tbody tr th:only-of-type {\n",
       "        vertical-align: middle;\n",
       "    }\n",
       "\n",
       "    .dataframe tbody tr th {\n",
       "        vertical-align: top;\n",
       "    }\n",
       "\n",
       "    .dataframe thead th {\n",
       "        text-align: right;\n",
       "    }\n",
       "</style>\n",
       "<table border=\"1\" class=\"dataframe\">\n",
       "  <thead>\n",
       "    <tr style=\"text-align: right;\">\n",
       "      <th></th>\n",
       "      <th>google_open</th>\n",
       "      <th>google_high</th>\n",
       "      <th>google_low</th>\n",
       "      <th>google_close</th>\n",
       "      <th>google</th>\n",
       "      <th>google_volume</th>\n",
       "      <th>google_ra_04</th>\n",
       "      <th>google_std_04</th>\n",
       "      <th>google_ra_09</th>\n",
       "      <th>google_std_09</th>\n",
       "      <th>...</th>\n",
       "      <th>nasdaq_ra_04</th>\n",
       "      <th>nasdaq_std_04</th>\n",
       "      <th>nasdaq_ra_09</th>\n",
       "      <th>nasdaq_std_09</th>\n",
       "      <th>nasdaq_ra_18</th>\n",
       "      <th>nasdaq_std_18</th>\n",
       "      <th>google_daily_vol</th>\n",
       "      <th>s&amp;p_daily_vol</th>\n",
       "      <th>nasdaq_daily_vol</th>\n",
       "      <th>google_45d</th>\n",
       "    </tr>\n",
       "    <tr>\n",
       "      <th>Date</th>\n",
       "      <th></th>\n",
       "      <th></th>\n",
       "      <th></th>\n",
       "      <th></th>\n",
       "      <th></th>\n",
       "      <th></th>\n",
       "      <th></th>\n",
       "      <th></th>\n",
       "      <th></th>\n",
       "      <th></th>\n",
       "      <th></th>\n",
       "      <th></th>\n",
       "      <th></th>\n",
       "      <th></th>\n",
       "      <th></th>\n",
       "      <th></th>\n",
       "      <th></th>\n",
       "      <th></th>\n",
       "      <th></th>\n",
       "      <th></th>\n",
       "      <th></th>\n",
       "    </tr>\n",
       "  </thead>\n",
       "  <tbody>\n",
       "    <tr>\n",
       "      <th>2018-07-31</th>\n",
       "      <td>1220.010010</td>\n",
       "      <td>1227.588013</td>\n",
       "      <td>1205.599976</td>\n",
       "      <td>1217.260010</td>\n",
       "      <td>1217.260010</td>\n",
       "      <td>1644700.0</td>\n",
       "      <td>1218.500000</td>\n",
       "      <td>1.753611</td>\n",
       "      <td>1237.301409</td>\n",
       "      <td>24.147664</td>\n",
       "      <td>...</td>\n",
       "      <td>7650.895020</td>\n",
       "      <td>29.550020</td>\n",
       "      <td>7786.610073</td>\n",
       "      <td>109.258547</td>\n",
       "      <td>7805.587565</td>\n",
       "      <td>85.060270</td>\n",
       "      <td>0.307801</td>\n",
       "      <td>0.089192</td>\n",
       "      <td>0.152314</td>\n",
       "      <td>1156.050049</td>\n",
       "    </tr>\n",
       "    <tr>\n",
       "      <th>2018-08-01</th>\n",
       "      <td>1228.000000</td>\n",
       "      <td>1233.469971</td>\n",
       "      <td>1210.209961</td>\n",
       "      <td>1220.010010</td>\n",
       "      <td>1220.010010</td>\n",
       "      <td>1567200.0</td>\n",
       "      <td>1219.003337</td>\n",
       "      <td>1.515790</td>\n",
       "      <td>1239.374268</td>\n",
       "      <td>21.433011</td>\n",
       "      <td>...</td>\n",
       "      <td>7669.693359</td>\n",
       "      <td>38.687654</td>\n",
       "      <td>7767.384347</td>\n",
       "      <td>109.753646</td>\n",
       "      <td>7798.026217</td>\n",
       "      <td>85.881161</td>\n",
       "      <td>0.285090</td>\n",
       "      <td>0.083101</td>\n",
       "      <td>0.146205</td>\n",
       "      <td>1161.219971</td>\n",
       "    </tr>\n",
       "    <tr>\n",
       "      <th>2018-08-02</th>\n",
       "      <td>1205.900024</td>\n",
       "      <td>1229.880005</td>\n",
       "      <td>1204.790039</td>\n",
       "      <td>1226.150024</td>\n",
       "      <td>1226.150024</td>\n",
       "      <td>1531300.0</td>\n",
       "      <td>1220.790009</td>\n",
       "      <td>3.781604</td>\n",
       "      <td>1236.241420</td>\n",
       "      <td>21.550840</td>\n",
       "      <td>...</td>\n",
       "      <td>7702.942505</td>\n",
       "      <td>73.619602</td>\n",
       "      <td>7761.944336</td>\n",
       "      <td>106.402575</td>\n",
       "      <td>7798.359340</td>\n",
       "      <td>82.521365</td>\n",
       "      <td>0.271257</td>\n",
       "      <td>0.086055</td>\n",
       "      <td>0.164864</td>\n",
       "      <td>1171.089966</td>\n",
       "    </tr>\n",
       "    <tr>\n",
       "      <th>2018-08-03</th>\n",
       "      <td>1229.619995</td>\n",
       "      <td>1230.000000</td>\n",
       "      <td>1215.060059</td>\n",
       "      <td>1223.709961</td>\n",
       "      <td>1223.709961</td>\n",
       "      <td>1089600.0</td>\n",
       "      <td>1221.782501</td>\n",
       "      <td>3.932133</td>\n",
       "      <td>1230.528564</td>\n",
       "      <td>18.079647</td>\n",
       "      <td>...</td>\n",
       "      <td>7748.444946</td>\n",
       "      <td>69.648419</td>\n",
       "      <td>7744.768555</td>\n",
       "      <td>81.003961</td>\n",
       "      <td>7798.808594</td>\n",
       "      <td>82.581619</td>\n",
       "      <td>0.214106</td>\n",
       "      <td>0.085981</td>\n",
       "      <td>0.165144</td>\n",
       "      <td>1186.869995</td>\n",
       "    </tr>\n",
       "    <tr>\n",
       "      <th>2018-08-06</th>\n",
       "      <td>1225.000000</td>\n",
       "      <td>1226.088013</td>\n",
       "      <td>1215.796997</td>\n",
       "      <td>1224.770020</td>\n",
       "      <td>1224.770020</td>\n",
       "      <td>1081700.0</td>\n",
       "      <td>1224.239991</td>\n",
       "      <td>0.749575</td>\n",
       "      <td>1221.940003</td>\n",
       "      <td>3.444802</td>\n",
       "      <td>...</td>\n",
       "      <td>7835.844971</td>\n",
       "      <td>33.708070</td>\n",
       "      <td>7747.243327</td>\n",
       "      <td>90.494779</td>\n",
       "      <td>7792.345052</td>\n",
       "      <td>87.849464</td>\n",
       "      <td>0.151643</td>\n",
       "      <td>0.065983</td>\n",
       "      <td>0.139857</td>\n",
       "      <td>1166.089966</td>\n",
       "    </tr>\n",
       "  </tbody>\n",
       "</table>\n",
       "<p>5 rows × 40 columns</p>\n",
       "</div>"
      ],
      "text/plain": [
       "            google_open  google_high   google_low  google_close       google  \\\n",
       "Date                                                                           \n",
       "2018-07-31  1220.010010  1227.588013  1205.599976   1217.260010  1217.260010   \n",
       "2018-08-01  1228.000000  1233.469971  1210.209961   1220.010010  1220.010010   \n",
       "2018-08-02  1205.900024  1229.880005  1204.790039   1226.150024  1226.150024   \n",
       "2018-08-03  1229.619995  1230.000000  1215.060059   1223.709961  1223.709961   \n",
       "2018-08-06  1225.000000  1226.088013  1215.796997   1224.770020  1224.770020   \n",
       "\n",
       "            google_volume  google_ra_04  google_std_04  google_ra_09  \\\n",
       "Date                                                                   \n",
       "2018-07-31      1644700.0   1218.500000       1.753611   1237.301409   \n",
       "2018-08-01      1567200.0   1219.003337       1.515790   1239.374268   \n",
       "2018-08-02      1531300.0   1220.790009       3.781604   1236.241420   \n",
       "2018-08-03      1089600.0   1221.782501       3.932133   1230.528564   \n",
       "2018-08-06      1081700.0   1224.239991       0.749575   1221.940003   \n",
       "\n",
       "            google_std_09  ...  nasdaq_ra_04  nasdaq_std_04  nasdaq_ra_09  \\\n",
       "Date                       ...                                              \n",
       "2018-07-31      24.147664  ...   7650.895020      29.550020   7786.610073   \n",
       "2018-08-01      21.433011  ...   7669.693359      38.687654   7767.384347   \n",
       "2018-08-02      21.550840  ...   7702.942505      73.619602   7761.944336   \n",
       "2018-08-03      18.079647  ...   7748.444946      69.648419   7744.768555   \n",
       "2018-08-06       3.444802  ...   7835.844971      33.708070   7747.243327   \n",
       "\n",
       "            nasdaq_std_09  nasdaq_ra_18  nasdaq_std_18  google_daily_vol  \\\n",
       "Date                                                                       \n",
       "2018-07-31     109.258547   7805.587565      85.060270          0.307801   \n",
       "2018-08-01     109.753646   7798.026217      85.881161          0.285090   \n",
       "2018-08-02     106.402575   7798.359340      82.521365          0.271257   \n",
       "2018-08-03      81.003961   7798.808594      82.581619          0.214106   \n",
       "2018-08-06      90.494779   7792.345052      87.849464          0.151643   \n",
       "\n",
       "            s&p_daily_vol  nasdaq_daily_vol   google_45d  \n",
       "Date                                                      \n",
       "2018-07-31       0.089192          0.152314  1156.050049  \n",
       "2018-08-01       0.083101          0.146205  1161.219971  \n",
       "2018-08-02       0.086055          0.164864  1171.089966  \n",
       "2018-08-03       0.085981          0.165144  1186.869995  \n",
       "2018-08-06       0.065983          0.139857  1166.089966  \n",
       "\n",
       "[5 rows x 40 columns]"
      ]
     },
     "execution_count": 24,
     "metadata": {},
     "output_type": "execute_result"
    }
   ],
   "source": [
    "unscaled_data.head()"
   ]
  },
  {
   "cell_type": "code",
   "execution_count": 25,
   "metadata": {},
   "outputs": [
    {
     "data": {
      "text/plain": [
       "161.82610947637454"
      ]
     },
     "execution_count": 25,
     "metadata": {},
     "output_type": "execute_result"
    }
   ],
   "source": [
    "seq_accuracy=np.sqrt(metrics.mean_squared_error(unscaled_data.google_45d, unscaled_seq_predictions.seq_prediction))\n",
    "seq_accuracy"
   ]
  },
  {
   "cell_type": "code",
   "execution_count": 26,
   "metadata": {},
   "outputs": [
    {
     "name": "stderr",
     "output_type": "stream",
     "text": [
      "/home/matthias/anaconda3/lib/python3.7/site-packages/pandas/plotting/_converter.py:129: FutureWarning: Using an implicitly registered datetime converter for a matplotlib plotting method. The converter was registered by pandas on import. Future versions of pandas will require you to explicitly register matplotlib converters.\n",
      "\n",
      "To register the converters:\n",
      "\t>>> from pandas.plotting import register_matplotlib_converters\n",
      "\t>>> register_matplotlib_converters()\n",
      "  warnings.warn(msg, FutureWarning)\n"
     ]
    },
    {
     "data": {
      "image/png": "[encoded data removed]",
      "text/plain": [
       "<Figure size 432x288 with 1 Axes>"
      ]
     },
     "metadata": {
      "needs_background": "light"
     },
     "output_type": "display_data"
    }
   ],
   "source": [
    "# Plot prediction vs actual\n",
    "plt.plot(unscaled_data['google_45d'], label='Adjusted Close')\n",
    "plt.plot(unscaled_seq_predictions['seq_prediction'], label='FF predicted')\n",
    "plt.grid()\n",
    "plt.legend()\n",
    "plt.show()"
   ]
  },
  {
   "cell_type": "markdown",
   "metadata": {},
   "source": [
    "### LSTM model"
   ]
  },
  {
   "cell_type": "markdown",
   "metadata": {},
   "source": [
    "#### Split into train and test set\n",
    "And here you have to be careful according to https://machinelearningmastery.com/time-series-forecasting-long-short-term-memory-network-python/ :\n",
    "\n",
    "\"A benefit of this type of network is that it can learn and remember over long sequences and does not rely on a pre-specified window lagged observation as input. In Keras, this is referred to as stateful, and involves setting the “stateful” argument to “True” when defining an LSTM layer. By default, an LSTM layer in Keras maintains state between data within one batch. A batch of data is a fixed-sized number of rows from the training dataset that defines how many patterns to process before updating the weights of the network. State in the LSTM layer between batches is cleared by default, therefore we must make the LSTM stateful. This gives us fine-grained control over when state of the LSTM layer is cleared, by calling the reset_states() function.\"\n",
    "\n",
    "But in order to can use \"stateful = True\" the data has to be a multiple of the batch size. Therefore I have to use modulo to get the test size correctly"
   ]
  },
  {
   "cell_type": "code",
   "execution_count": 27,
   "metadata": {},
   "outputs": [],
   "source": [
    "batch_size = 10\n",
    "train_test_split = 0.9\n",
    "x_train, x_test, y_train, y_test, test_data, test_index, x_columns = get_train_test_data(df_scaled, train_test_split, batch_size)"
   ]
  },
  {
   "cell_type": "code",
   "execution_count": 28,
   "metadata": {},
   "outputs": [],
   "source": [
    "x_train=x_train.to_numpy()\n",
    "y_train=y_train.to_numpy()\n",
    "x_test = x_test.to_numpy()\n",
    "y_test = y_test.to_numpy()\n",
    "# Reshape data for (Sample, Timesteps, Features)\n",
    "x_train_reshaped = x_train.reshape(x_train.shape[0], 1, x_train.shape[1])\n",
    "x_test_reshaped = x_test.reshape(x_test.shape[0], 1, x_test.shape[1])"
   ]
  },
  {
   "cell_type": "code",
   "execution_count": 29,
   "metadata": {},
   "outputs": [
    {
     "name": "stdout",
     "output_type": "stream",
     "text": [
      "_________________________________________________________________\n",
      "Layer (type)                 Output Shape              Param #   \n",
      "=================================================================\n",
      "lstm_1 (LSTM)                (None, 1, 100)            56000     \n",
      "_________________________________________________________________\n",
      "lstm_2 (LSTM)                (None, 100)               80400     \n",
      "_________________________________________________________________\n",
      "dense_5 (Dense)              (None, 1)                 101       \n",
      "=================================================================\n",
      "Total params: 136,501\n",
      "Trainable params: 136,501\n",
      "Non-trainable params: 0\n",
      "_________________________________________________________________\n"
     ]
    }
   ],
   "source": [
    "lstm_model = Sequential()\n",
    "lstm_model.add(LSTM(units=100, input_shape = (x_train_reshaped.shape[1], x_train_reshaped.shape[2]), dropout = 0.2, return_sequences = True))\n",
    "lstm_model.add(LSTM(units = 100, dropout = 0.2))\n",
    "lstm_model.add(Dense(1))\n",
    "lstm_model.compile(optimizer = 'adam', loss='mse')\n",
    "lstm_model.summary()"
   ]
  },
  {
   "cell_type": "code",
   "execution_count": 30,
   "metadata": {},
   "outputs": [],
   "source": [
    "def rolling_lstm_fit_pred(model,x_test,y_test,x_train,y_train):\n",
    "    predictions = []\n",
    "    counter = 0\n",
    "    epochs = 15\n",
    "    x_train_reshaped = x_train.reshape(x_train.shape[0], 1, x_train.shape[1])\n",
    "    lstm_model.fit(x_train_reshaped, y_train, epochs=epochs, batch_size=batch_size, verbose=0);\n",
    "    for i in range(len(x_test)):\n",
    "        counter +=1\n",
    "        if counter%5==0:\n",
    "            # reshape x_train\n",
    "            model.reset_states()\n",
    "            x_train_reshaped = x_train.reshape(x_train.shape[0], 1, x_train.shape[1])\n",
    "            lstm_model.fit(x_train_reshaped, y_train, epochs=epochs, batch_size=batch_size, verbose=0);\n",
    "        # make one-step forecast\n",
    "        X = x_test[i,:] # select single line\n",
    "        X = X.reshape(1, 1, len(X))  # reshape for LSTM\n",
    "        y = y_test[i]\n",
    "        yhat = lstm_model.predict(X, batch_size=1)[0] # reshape prediction to be just a 1D array\n",
    "        # store forecast\n",
    "        predictions.append(yhat[0])\n",
    "        # add current x_test and y_test line to training data\n",
    "        if i != len(x_test):\n",
    "            x_train = np.vstack([x_train, x_test[i]])\n",
    "            y_train = np.append(y_train, np.array([y_test[1]]), axis=0)\n",
    "    return predictions"
   ]
  },
  {
   "cell_type": "markdown",
   "metadata": {},
   "source": [
    "#### Get predictions"
   ]
  },
  {
   "cell_type": "code",
   "execution_count": 31,
   "metadata": {},
   "outputs": [
    {
     "name": "stdout",
     "output_type": "stream",
     "text": [
      "WARNING:tensorflow:From /home/matthias/anaconda3/lib/python3.7/site-packages/tensorflow/python/ops/math_grad.py:1250: add_dispatch_support.<locals>.wrapper (from tensorflow.python.ops.array_ops) is deprecated and will be removed in a future version.\n",
      "Instructions for updating:\n",
      "Use tf.where in 2.0, which has the same broadcast rule as np.where\n"
     ]
    },
    {
     "data": {
      "text/plain": [
       "1214.0347380638123"
      ]
     },
     "execution_count": 31,
     "metadata": {},
     "output_type": "execute_result"
    }
   ],
   "source": [
    "# Generate predictions\n",
    "start_lstm = time.time()\n",
    "yhat = rolling_lstm_fit_pred(lstm_model,x_test,y_test,x_train,y_train);\n",
    "raw_lstm_predictions = pd.DataFrame(yhat,columns = ['lstm_prediction'], index = test_index)\n",
    "end_lstm = time.time()\n",
    "time_lstm = end_lstm - start_lstm\n",
    "time_lstm"
   ]
  },
  {
   "cell_type": "markdown",
   "metadata": {},
   "source": [
    "#### Convert data"
   ]
  },
  {
   "cell_type": "code",
   "execution_count": 32,
   "metadata": {},
   "outputs": [],
   "source": [
    "x_test = pd.DataFrame(x_test, columns = x_columns, index = test_index)\n",
    "y_test = pd.DataFrame(y_test, columns = ['google_45d'], index = test_index)"
   ]
  },
  {
   "cell_type": "code",
   "execution_count": 33,
   "metadata": {},
   "outputs": [],
   "source": [
    "# Invert scaling for prediction data\n",
    "unscaled_lstm_predictions = pd.concat([x_test, raw_lstm_predictions], axis=1)\n",
    "unscaled_lstm_predictions = pd.DataFrame(scaler.inverse_transform(unscaled_lstm_predictions), columns=unscaled_lstm_predictions.columns, index=unscaled_lstm_predictions.index)\n",
    "\n",
    "# Invert scaling for actual data\n",
    "test_data_unscaled = pd.concat([x_test, y_test], axis=1)\n",
    "test_data_unscaled = pd.DataFrame(scaler.inverse_transform(test_data_unscaled), columns=test_data_unscaled.columns, index=test_data_unscaled.index)"
   ]
  },
  {
   "cell_type": "code",
   "execution_count": 34,
   "metadata": {},
   "outputs": [],
   "source": [
    "backup['unscaled_lstm_predictions'] = unscaled_lstm_predictions\n",
    "backup['test_data_unscaled'] = test_data_unscaled"
   ]
  },
  {
   "cell_type": "code",
   "execution_count": 35,
   "metadata": {},
   "outputs": [
    {
     "name": "stdout",
     "output_type": "stream",
     "text": [
      "Accuracy of feedforward model is 161.83 \n",
      "Accuracy of LSTM model is 66.0\n"
     ]
    }
   ],
   "source": [
    "lstm_accuracy=np.sqrt(metrics.mean_squared_error(unscaled_data.google_45d, unscaled_lstm_predictions.lstm_prediction))\n",
    "print('Accuracy of feedforward model is {} \\nAccuracy of LSTM model is {}'.format(round(seq_accuracy,2), round(lstm_accuracy)))"
   ]
  },
  {
   "cell_type": "code",
   "execution_count": 3,
   "metadata": {},
   "outputs": [
    {
     "name": "stderr",
     "output_type": "stream",
     "text": [
      "/home/matthias/anaconda3/lib/python3.7/site-packages/pandas/plotting/_converter.py:129: FutureWarning: Using an implicitly registered datetime converter for a matplotlib plotting method. The converter was registered by pandas on import. Future versions of pandas will require you to explicitly register matplotlib converters.\n",
      "\n",
      "To register the converters:\n",
      "\t>>> from pandas.plotting import register_matplotlib_converters\n",
      "\t>>> register_matplotlib_converters()\n",
      "  warnings.warn(msg, FutureWarning)\n"
     ]
    },
    {
     "data": {
      "image/png": "[encoded data removed]",
      "text/plain": [
       "<Figure size 432x288 with 1 Axes>"
      ]
     },
     "metadata": {
      "needs_background": "light"
     },
     "output_type": "display_data"
    }
   ],
   "source": [
    "# Plot prediction vs actual\n",
    "plt.plot(test_data_unscaled['google_45d'], label='Adjusted Close')\n",
    "plt.plot(unscaled_seq_predictions['seq_prediction'], label='FF predicted')\n",
    "plt.plot(unscaled_lstm_predictions['lstm_prediction'], label='LSTM predicted')\n",
    "plt.xlabel('Date')\n",
    "plt.ylabel('USD')\n",
    "plt.grid()\n",
    "plt.legend()\n",
    "plt.show()"
   ]
  },
  {
   "cell_type": "code",
   "execution_count": 37,
   "metadata": {},
   "outputs": [
    {
     "name": "stdout",
     "output_type": "stream",
     "text": [
      "Run time for feedforward model is 841.8499984741211 seconds \n",
      "Run time for LSTM model is 1214.0347380638123 seconds\n"
     ]
    }
   ],
   "source": [
    "print('Run time for feedforward model is {} seconds \\nRun time for LSTM model is {} seconds'.format(time_seq,time_lstm))"
   ]
  },
  {
   "cell_type": "code",
   "execution_count": 4,
   "metadata": {},
   "outputs": [],
   "source": [
    "backup.close()"
   ]
  },
  {
   "cell_type": "code",
   "execution_count": null,
   "metadata": {},
   "outputs": [],
   "source": []
  }
 ],
 "metadata": {
  "kernelspec": {
   "display_name": "Python 3",
   "language": "python",
   "name": "python3"
  },
  "language_info": {
   "codemirror_mode": {
    "name": "ipython",
    "version": 3
   },
   "file_extension": ".py",
   "mimetype": "text/x-python",
   "name": "python",
   "nbconvert_exporter": "python",
   "pygments_lexer": "ipython3",
   "version": "3.7.3"
  }
 },
 "nbformat": 4,
 "nbformat_minor": 2
}
