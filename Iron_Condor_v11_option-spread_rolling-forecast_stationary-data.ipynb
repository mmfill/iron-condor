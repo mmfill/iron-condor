{
 "cells": [
  {
   "cell_type": "markdown",
   "metadata": {},
   "source": [
    "## Notebook for training for STATIONARY option spread with rolling forecast\n",
    "Forecast for last 10% of data. Data is stationary (differenced), forecast is done day by day.\n",
    "- Sequential model\n",
    "- LSTM model\n",
    "- STATIONARY\n",
    "- rolling forecast"
   ]
  },
  {
   "cell_type": "code",
   "execution_count": 27,
   "metadata": {},
   "outputs": [],
   "source": [
    "import pandas as pd\n",
    "import matplotlib.pyplot as plt\n",
    "from mpl_toolkits.mplot3d import Axes3D\n",
    "from matplotlib import cm\n",
    "import numpy as np\n",
    "import scipy.stats as si\n",
    "from IPython.display import Image\n",
    "import datetime\n",
    "\n",
    "from keras.models import Sequential\n",
    "from keras.layers.core import Dense, Activation, Dropout\n",
    "from keras.layers import LSTM\n",
    "from sklearn import preprocessing, metrics\n",
    "from keras import optimizers\n",
    "\n",
    "%matplotlib inline"
   ]
  },
  {
   "cell_type": "code",
   "execution_count": 29,
   "metadata": {},
   "outputs": [],
   "source": [
    "backup = pd.HDFStore('backup_v11.h5')\n",
    "#df = backup['df']\n",
    "#df_predicted = backup['df_predicted']\n",
    "#unscaled_seq_predictions = backup['unscaled_seq_predictions']\n",
    "#unscaled_data = backup['unscaled_data']\n",
    "#unscaled_lstm_predictions = backup['unscaled_lstm_predictions']\n",
    "#test_data_unscaled = backup['test_data_unscaled']\n",
    "#df_predicted = backup['df_predicted']"
   ]
  },
  {
   "cell_type": "markdown",
   "metadata": {},
   "source": [
    "### Iron Condor\n",
    "The iron condor is a investment strategy using four option with the same strike date. More precise, the iron condor uses two vertical spreads, one put spread and a call spread. The put spread consists at of a short put option (P_s) with a strike price below the actual stock price and a long put option (P_l) with a strike price below the short put option P_s. The call spread consists of a short call option (C_s) above the actual stock price and a long call option (C_l) above the short call option C_s. All options have the same strike date and the spread on both legs can vary but is chosen mostly the same.\n",
    "![title](Condor_strategy.png)\n",
    "\"A trader who buys an iron condor speculates that the spot price of the underlying instrument will be between the short strikes when the options expire where the position is the most profitable. Thus, the iron condor is an options strategy considered when the trader has a neutral outlook for the market. Buying iron condors are popular with traders who seek regular income from their trading capital. An iron condor buyer will attempt to construct the trade so that the short strikes are close enough that the position will earn a desirable net credit, but wide enough apart so that it is likely that the spot price of the underlying will remain between the short strikes for the duration of the options contract. The trader would typically play iron condors every month (if possible) thus generating monthly income with the strategy.\" [https://en.wikipedia.org/wiki/Iron_condor]\n",
    "\n",
    "### Goal of the project\n",
    "The goal of the project is to find a strategy to maximise the profit with an iron condor. The ideal short and long spreads should be found at any time based on data of the underlying stock and of the indices S&P500 and Nasdaq"
   ]
  },
  {
   "cell_type": "code",
   "execution_count": 88,
   "metadata": {},
   "outputs": [],
   "source": [
    "def get_data(var_name,name):\n",
    "    # reads in csv into DataFrame, keeps Adj Close and Volume and calculates rolling averages and \n",
    "    # rolling standard deviation of Adj Close for 4, 9 and 18 days\n",
    "    # var_name: path to csv file\n",
    "    # name: name of the column df\n",
    "    df = pd.read_csv('data/'+var_name+'.csv',index_col='Date', parse_dates=True)\n",
    "    df.rename(columns={\"Adj Close\": name, \"Volume\": name+'_volume', \"Open\": name+'_open'}, inplace = True)\n",
    "    df.rename(columns={\"High\": name+'_high', \"Low\": name+'_low', \"Close\": name+'_close'}, inplace = True)\n",
    "    #df.drop(['Open','High','Low','Close'],axis=1, inplace = True)\n",
    "    #if name == 'google':\n",
    "        #df['google_45d'] = df['google'].shift(-32) # stock price in 45 days (approx. 32 trading days)\n",
    "    df[name+'_ra_04'] = df[name].rolling('4d').mean()\n",
    "    df[name+'_std_04'] = df[name].rolling('4d').std()\n",
    "    df[name+'_ra_09'] = df[name].rolling('9d').mean()\n",
    "    df[name+'_std_09'] = df[name].rolling('9d').std()\n",
    "    df[name+'_ra_18'] = df[name].rolling('18d').mean()\n",
    "    df[name+'_std_18'] = df[name].rolling('18d').std()\n",
    "    return df"
   ]
  },
  {
   "cell_type": "code",
   "execution_count": 89,
   "metadata": {},
   "outputs": [],
   "source": [
    "def sigma_fct(df, name, days = 10):\n",
    "    # For Black-Scholes I need the volatility of return of the underlying assets in the last days\n",
    "    # based on https://www.wikihow.com/Calculate-Historical-Stock-Volatility\n",
    "    # First the ln of daily returns is calculated for each element of names\n",
    "    for name in names:\n",
    "        a=pd.DataFrame()\n",
    "        a['ln_daily_return'] = np.log(df[name] / df[name].shift(1))\n",
    "        # next the rolling average (mean) over certain days is calculated\n",
    "        a['rol_avg'] =  a['ln_daily_return'].rolling(str(days)+'d').mean()\n",
    "        # next deviation from the mean is calculated\n",
    "        a['dev_mean'] = a['ln_daily_return'] - a['rol_avg']\n",
    "        # next variance is calculated for certain days\n",
    "        a['dev_mean_sq'] = a['dev_mean']**2\n",
    "        a['variance'] = a['dev_mean_sq'].rolling(str(days)+'d').sum()/(a['dev_mean_sq'].rolling(str(days)+'d').count()-1)\n",
    "        # volatility is square root of variance\n",
    "        # do you need annual volatility?\n",
    "        df[name + '_daily_vol'] = np.sqrt(a['variance'])*np.sqrt(252) # 252 trading days in a year\n",
    "        #df.drop(['ln_daily_return'])#,'rol_avg','dev_mean','dev_mean_sq','variance'])\n",
    "        #return df[name + '_daily_vol']\n",
    "    return df"
   ]
  },
  {
   "cell_type": "code",
   "execution_count": 90,
   "metadata": {},
   "outputs": [],
   "source": [
    "def stationary_timeseries(df, damned_list = ['volume','std','daily']):\n",
    "    # makes columns in df that are not in damned list stationary. Means it calculates the \n",
    "    # difference row by row\n",
    "    columns = df.columns\n",
    "    df_sta = pd.DataFrame()\n",
    "    for column in columns:\n",
    "        if any(elem in column for elem in damned_list):\n",
    "            df_sta[column] = df[column]\n",
    "        else:\n",
    "            df_sta[column+'_sta'] = df[column].shift(1) - df[column]\n",
    "    df_sta.dropna(inplace = True)  # to make sure we have all the data on all the days\n",
    "    return df_sta"
   ]
  },
  {
   "cell_type": "code",
   "execution_count": 91,
   "metadata": {},
   "outputs": [],
   "source": [
    "def get_df(var_name_list,name_list):\n",
    "    # takes list paths of csv files and names and passes it on to get_data.\n",
    "    # Gets df from get_data and merges them on 'Date'\n",
    "    # Calls sigma_fct to get sigma of daily returns \n",
    "    # var_name_list: list of paths to csv files\n",
    "    # name: list of names the columns of df\n",
    "    i=0\n",
    "    for var_name in var_name_list:\n",
    "        if i == 0:\n",
    "            df = get_data(var_name, name_list[i])\n",
    "        else:\n",
    "            df = pd.merge(df,get_data(var_name, name_list[i]),on='Date')\n",
    "        i += 1\n",
    "    df.dropna(inplace = True)  # to make sure we have all the data on all the days\n",
    "    \n",
    "    df = sigma_fct(df,names)\n",
    "    df=df[23:] # drop first entries to get clean results\n",
    "\n",
    "    return df"
   ]
  },
  {
   "cell_type": "code",
   "execution_count": 92,
   "metadata": {},
   "outputs": [],
   "source": [
    "def get_target_data(df, name):\n",
    "    # function to create the target data\n",
    "    # name: name of the column the target data is created of\n",
    "    df[name+'_45d'] = df[name].shift(-32) # stock price in 45 days (approx. 32 trading days)\n",
    "    df.dropna(inplace = True)  # to make sure we have all the data on all the days\n",
    "    # df['short_call'] shows the perfect short call. If you would have shorted a call option with a strike price \n",
    "    # exactly the same as the stock price 45 days later, you made maximum profit. Therefore this is the target \n",
    "    # value for the short call option. The minimum is 0, so we never short a call option with a strike price\n",
    "    # below the stock price right now. The same for the short put option\n",
    "    df['short_call'] = [x/y-1 if x/y > 1 else 0 for x,y in df[[name+'_45d', name]].values]\n",
    "    df['short_put'] = [1-x/y if x/y < 1 else 0 for x,y in df[[name+'_45d', name]].values]\n",
    "    return df"
   ]
  },
  {
   "cell_type": "code",
   "execution_count": 93,
   "metadata": {
    "scrolled": true
   },
   "outputs": [
    {
     "data": {
      "text/html": [
       "<div>\n",
       "<style scoped>\n",
       "    .dataframe tbody tr th:only-of-type {\n",
       "        vertical-align: middle;\n",
       "    }\n",
       "\n",
       "    .dataframe tbody tr th {\n",
       "        vertical-align: top;\n",
       "    }\n",
       "\n",
       "    .dataframe thead th {\n",
       "        text-align: right;\n",
       "    }\n",
       "</style>\n",
       "<table border=\"1\" class=\"dataframe\">\n",
       "  <thead>\n",
       "    <tr style=\"text-align: right;\">\n",
       "      <th></th>\n",
       "      <th>google_open</th>\n",
       "      <th>google_high</th>\n",
       "      <th>google_low</th>\n",
       "      <th>google_close</th>\n",
       "      <th>google</th>\n",
       "      <th>google_volume</th>\n",
       "      <th>google_ra_04</th>\n",
       "      <th>google_std_04</th>\n",
       "      <th>google_ra_09</th>\n",
       "      <th>google_std_09</th>\n",
       "      <th>...</th>\n",
       "      <th>nasdaq_ra_09</th>\n",
       "      <th>nasdaq_std_09</th>\n",
       "      <th>nasdaq_ra_18</th>\n",
       "      <th>nasdaq_std_18</th>\n",
       "      <th>google_daily_vol</th>\n",
       "      <th>s&amp;p_daily_vol</th>\n",
       "      <th>nasdaq_daily_vol</th>\n",
       "      <th>google_45d</th>\n",
       "      <th>short_call</th>\n",
       "      <th>short_put</th>\n",
       "    </tr>\n",
       "    <tr>\n",
       "      <th>Date</th>\n",
       "      <th></th>\n",
       "      <th></th>\n",
       "      <th></th>\n",
       "      <th></th>\n",
       "      <th></th>\n",
       "      <th></th>\n",
       "      <th></th>\n",
       "      <th></th>\n",
       "      <th></th>\n",
       "      <th></th>\n",
       "      <th></th>\n",
       "      <th></th>\n",
       "      <th></th>\n",
       "      <th></th>\n",
       "      <th></th>\n",
       "      <th></th>\n",
       "      <th></th>\n",
       "      <th></th>\n",
       "      <th></th>\n",
       "      <th></th>\n",
       "      <th></th>\n",
       "    </tr>\n",
       "  </thead>\n",
       "  <tbody>\n",
       "    <tr>\n",
       "      <th>2008-11-21</th>\n",
       "      <td>130.764862</td>\n",
       "      <td>134.182053</td>\n",
       "      <td>123.188263</td>\n",
       "      <td>130.725006</td>\n",
       "      <td>130.725006</td>\n",
       "      <td>20565700</td>\n",
       "      <td>136.935478</td>\n",
       "      <td>8.750923</td>\n",
       "      <td>143.875715</td>\n",
       "      <td>10.798013</td>\n",
       "      <td>...</td>\n",
       "      <td>1452.251430</td>\n",
       "      <td>95.188063</td>\n",
       "      <td>1541.462141</td>\n",
       "      <td>127.530682</td>\n",
       "      <td>0.716470</td>\n",
       "      <td>0.802275</td>\n",
       "      <td>0.738519</td>\n",
       "      <td>156.946732</td>\n",
       "      <td>0.200587</td>\n",
       "      <td>0.0</td>\n",
       "    </tr>\n",
       "    <tr>\n",
       "      <th>2008-11-24</th>\n",
       "      <td>134.127258</td>\n",
       "      <td>134.470963</td>\n",
       "      <td>124.040070</td>\n",
       "      <td>128.239334</td>\n",
       "      <td>128.239334</td>\n",
       "      <td>20184700</td>\n",
       "      <td>129.482170</td>\n",
       "      <td>1.757636</td>\n",
       "      <td>137.580147</td>\n",
       "      <td>9.599201</td>\n",
       "      <td>...</td>\n",
       "      <td>1420.705017</td>\n",
       "      <td>68.914436</td>\n",
       "      <td>1498.502503</td>\n",
       "      <td>101.345711</td>\n",
       "      <td>0.529842</td>\n",
       "      <td>0.864400</td>\n",
       "      <td>0.777819</td>\n",
       "      <td>155.761169</td>\n",
       "      <td>0.214613</td>\n",
       "      <td>0.0</td>\n",
       "    </tr>\n",
       "    <tr>\n",
       "      <th>2008-11-25</th>\n",
       "      <td>133.838348</td>\n",
       "      <td>142.794769</td>\n",
       "      <td>133.160873</td>\n",
       "      <td>140.498383</td>\n",
       "      <td>140.498383</td>\n",
       "      <td>21623100</td>\n",
       "      <td>134.368858</td>\n",
       "      <td>8.668457</td>\n",
       "      <td>137.997038</td>\n",
       "      <td>8.831976</td>\n",
       "      <td>...</td>\n",
       "      <td>1426.994298</td>\n",
       "      <td>65.073432</td>\n",
       "      <td>1483.279999</td>\n",
       "      <td>90.035297</td>\n",
       "      <td>0.833833</td>\n",
       "      <td>0.791313</td>\n",
       "      <td>0.710049</td>\n",
       "      <td>156.573120</td>\n",
       "      <td>0.114412</td>\n",
       "      <td>0.0</td>\n",
       "    </tr>\n",
       "    <tr>\n",
       "      <th>2008-11-26</th>\n",
       "      <td>139.616684</td>\n",
       "      <td>147.178345</td>\n",
       "      <td>137.584305</td>\n",
       "      <td>145.499634</td>\n",
       "      <td>145.499634</td>\n",
       "      <td>12760800</td>\n",
       "      <td>138.079117</td>\n",
       "      <td>8.880829</td>\n",
       "      <td>137.425609</td>\n",
       "      <td>8.059325</td>\n",
       "      <td>...</td>\n",
       "      <td>1434.144287</td>\n",
       "      <td>74.235572</td>\n",
       "      <td>1487.035382</td>\n",
       "      <td>87.259170</td>\n",
       "      <td>0.812863</td>\n",
       "      <td>0.758392</td>\n",
       "      <td>0.707779</td>\n",
       "      <td>149.923050</td>\n",
       "      <td>0.030402</td>\n",
       "      <td>0.0</td>\n",
       "    </tr>\n",
       "    <tr>\n",
       "      <th>2008-11-28</th>\n",
       "      <td>144.747452</td>\n",
       "      <td>147.671494</td>\n",
       "      <td>143.601746</td>\n",
       "      <td>145.933014</td>\n",
       "      <td>145.933014</td>\n",
       "      <td>5150200</td>\n",
       "      <td>143.977010</td>\n",
       "      <td>3.020363</td>\n",
       "      <td>136.698456</td>\n",
       "      <td>8.236770</td>\n",
       "      <td>...</td>\n",
       "      <td>1450.814982</td>\n",
       "      <td>86.016593</td>\n",
       "      <td>1480.791532</td>\n",
       "      <td>79.789023</td>\n",
       "      <td>0.871477</td>\n",
       "      <td>0.804582</td>\n",
       "      <td>0.756923</td>\n",
       "      <td>148.936752</td>\n",
       "      <td>0.020583</td>\n",
       "      <td>0.0</td>\n",
       "    </tr>\n",
       "  </tbody>\n",
       "</table>\n",
       "<p>5 rows × 42 columns</p>\n",
       "</div>"
      ],
      "text/plain": [
       "            google_open  google_high  google_low  google_close      google  \\\n",
       "Date                                                                         \n",
       "2008-11-21   130.764862   134.182053  123.188263    130.725006  130.725006   \n",
       "2008-11-24   134.127258   134.470963  124.040070    128.239334  128.239334   \n",
       "2008-11-25   133.838348   142.794769  133.160873    140.498383  140.498383   \n",
       "2008-11-26   139.616684   147.178345  137.584305    145.499634  145.499634   \n",
       "2008-11-28   144.747452   147.671494  143.601746    145.933014  145.933014   \n",
       "\n",
       "            google_volume  google_ra_04  google_std_04  google_ra_09  \\\n",
       "Date                                                                   \n",
       "2008-11-21       20565700    136.935478       8.750923    143.875715   \n",
       "2008-11-24       20184700    129.482170       1.757636    137.580147   \n",
       "2008-11-25       21623100    134.368858       8.668457    137.997038   \n",
       "2008-11-26       12760800    138.079117       8.880829    137.425609   \n",
       "2008-11-28        5150200    143.977010       3.020363    136.698456   \n",
       "\n",
       "            google_std_09  ...  nasdaq_ra_09  nasdaq_std_09  nasdaq_ra_18  \\\n",
       "Date                       ...                                              \n",
       "2008-11-21      10.798013  ...   1452.251430      95.188063   1541.462141   \n",
       "2008-11-24       9.599201  ...   1420.705017      68.914436   1498.502503   \n",
       "2008-11-25       8.831976  ...   1426.994298      65.073432   1483.279999   \n",
       "2008-11-26       8.059325  ...   1434.144287      74.235572   1487.035382   \n",
       "2008-11-28       8.236770  ...   1450.814982      86.016593   1480.791532   \n",
       "\n",
       "            nasdaq_std_18  google_daily_vol  s&p_daily_vol  nasdaq_daily_vol  \\\n",
       "Date                                                                           \n",
       "2008-11-21     127.530682          0.716470       0.802275          0.738519   \n",
       "2008-11-24     101.345711          0.529842       0.864400          0.777819   \n",
       "2008-11-25      90.035297          0.833833       0.791313          0.710049   \n",
       "2008-11-26      87.259170          0.812863       0.758392          0.707779   \n",
       "2008-11-28      79.789023          0.871477       0.804582          0.756923   \n",
       "\n",
       "            google_45d  short_call  short_put  \n",
       "Date                                           \n",
       "2008-11-21  156.946732    0.200587        0.0  \n",
       "2008-11-24  155.761169    0.214613        0.0  \n",
       "2008-11-25  156.573120    0.114412        0.0  \n",
       "2008-11-26  149.923050    0.030402        0.0  \n",
       "2008-11-28  148.936752    0.020583        0.0  \n",
       "\n",
       "[5 rows x 42 columns]"
      ]
     },
     "execution_count": 93,
     "metadata": {},
     "output_type": "execute_result"
    }
   ],
   "source": [
    "var_names = ['GOOG','S&P','Nasdaq2']\n",
    "names = ['google','s&p','nasdaq']\n",
    "df = get_df(var_names, names)\n",
    "df = get_target_data(df, 'google')\n",
    "df.head()"
   ]
  },
  {
   "cell_type": "markdown",
   "metadata": {},
   "source": [
    "### Stationary timeseries\n",
    "It is clearly visible, that the stock price has a upward trend. But in order to make predictions easier we try to make the time series data stationary. A stationary timeseries is a timeseries with constant mean, variance and covariance. Here we only make the mean constant. We do this by a lag=1 differencing, or said in different words\n",
    "- we look at the daily change\n",
    "- we look at the offset of the timeseries\n",
    "\n",
    "But first we have to check which feature (column) shows a trend. I do not use statistical test like the Augmented Dickey Fuller Test or the Kwiatkowski-Phillips-Schmidt-Shin Test, but simply to it by visual inspection.\n",
    "\n",
    "If the stock price shows an upward trend, so does S&P 500 and Nasdaq and all of their averages. Not a trend of the mean show all standard deviations, volumens and daily volatility of annual return."
   ]
  },
  {
   "cell_type": "code",
   "execution_count": 94,
   "metadata": {},
   "outputs": [
    {
     "data": {
      "text/html": [
       "<div>\n",
       "<style scoped>\n",
       "    .dataframe tbody tr th:only-of-type {\n",
       "        vertical-align: middle;\n",
       "    }\n",
       "\n",
       "    .dataframe tbody tr th {\n",
       "        vertical-align: top;\n",
       "    }\n",
       "\n",
       "    .dataframe thead th {\n",
       "        text-align: right;\n",
       "    }\n",
       "</style>\n",
       "<table border=\"1\" class=\"dataframe\">\n",
       "  <thead>\n",
       "    <tr style=\"text-align: right;\">\n",
       "      <th></th>\n",
       "      <th>google_open_sta</th>\n",
       "      <th>google_high_sta</th>\n",
       "      <th>google_low_sta</th>\n",
       "      <th>google_close_sta</th>\n",
       "      <th>google_sta</th>\n",
       "      <th>google_volume</th>\n",
       "      <th>google_ra_04_sta</th>\n",
       "      <th>google_std_04</th>\n",
       "      <th>google_ra_09_sta</th>\n",
       "      <th>google_std_09</th>\n",
       "      <th>...</th>\n",
       "      <th>nasdaq_ra_18_sta</th>\n",
       "      <th>nasdaq_std_18</th>\n",
       "      <th>google_daily_vol</th>\n",
       "      <th>s&amp;p_daily_vol</th>\n",
       "      <th>nasdaq_daily_vol</th>\n",
       "      <th>google_45d_sta</th>\n",
       "      <th>short_call_sta</th>\n",
       "      <th>short_put_sta</th>\n",
       "      <th>short_call</th>\n",
       "      <th>short_put</th>\n",
       "    </tr>\n",
       "    <tr>\n",
       "      <th>Date</th>\n",
       "      <th></th>\n",
       "      <th></th>\n",
       "      <th></th>\n",
       "      <th></th>\n",
       "      <th></th>\n",
       "      <th></th>\n",
       "      <th></th>\n",
       "      <th></th>\n",
       "      <th></th>\n",
       "      <th></th>\n",
       "      <th></th>\n",
       "      <th></th>\n",
       "      <th></th>\n",
       "      <th></th>\n",
       "      <th></th>\n",
       "      <th></th>\n",
       "      <th></th>\n",
       "      <th></th>\n",
       "      <th></th>\n",
       "      <th></th>\n",
       "      <th></th>\n",
       "    </tr>\n",
       "  </thead>\n",
       "  <tbody>\n",
       "    <tr>\n",
       "      <th>2008-11-24</th>\n",
       "      <td>-3.362396</td>\n",
       "      <td>-0.288910</td>\n",
       "      <td>-0.851807</td>\n",
       "      <td>2.485672</td>\n",
       "      <td>2.485672</td>\n",
       "      <td>20184700</td>\n",
       "      <td>7.453308</td>\n",
       "      <td>1.757636</td>\n",
       "      <td>6.295568</td>\n",
       "      <td>9.599201</td>\n",
       "      <td>...</td>\n",
       "      <td>42.959638</td>\n",
       "      <td>101.345711</td>\n",
       "      <td>0.529842</td>\n",
       "      <td>0.864400</td>\n",
       "      <td>0.777819</td>\n",
       "      <td>1.185563</td>\n",
       "      <td>-0.014026</td>\n",
       "      <td>0.0</td>\n",
       "      <td>0.214613</td>\n",
       "      <td>0.0</td>\n",
       "    </tr>\n",
       "    <tr>\n",
       "      <th>2008-11-25</th>\n",
       "      <td>0.288910</td>\n",
       "      <td>-8.323806</td>\n",
       "      <td>-9.120803</td>\n",
       "      <td>-12.259049</td>\n",
       "      <td>-12.259049</td>\n",
       "      <td>21623100</td>\n",
       "      <td>-4.886688</td>\n",
       "      <td>8.668457</td>\n",
       "      <td>-0.416891</td>\n",
       "      <td>8.831976</td>\n",
       "      <td>...</td>\n",
       "      <td>15.222504</td>\n",
       "      <td>90.035297</td>\n",
       "      <td>0.833833</td>\n",
       "      <td>0.791313</td>\n",
       "      <td>0.710049</td>\n",
       "      <td>-0.811951</td>\n",
       "      <td>0.100201</td>\n",
       "      <td>0.0</td>\n",
       "      <td>0.114412</td>\n",
       "      <td>0.0</td>\n",
       "    </tr>\n",
       "    <tr>\n",
       "      <th>2008-11-26</th>\n",
       "      <td>-5.778336</td>\n",
       "      <td>-4.383576</td>\n",
       "      <td>-4.423432</td>\n",
       "      <td>-5.001251</td>\n",
       "      <td>-5.001251</td>\n",
       "      <td>12760800</td>\n",
       "      <td>-3.710259</td>\n",
       "      <td>8.880829</td>\n",
       "      <td>0.571429</td>\n",
       "      <td>8.059325</td>\n",
       "      <td>...</td>\n",
       "      <td>-3.755383</td>\n",
       "      <td>87.259170</td>\n",
       "      <td>0.812863</td>\n",
       "      <td>0.758392</td>\n",
       "      <td>0.707779</td>\n",
       "      <td>6.650070</td>\n",
       "      <td>0.084011</td>\n",
       "      <td>0.0</td>\n",
       "      <td>0.030402</td>\n",
       "      <td>0.0</td>\n",
       "    </tr>\n",
       "    <tr>\n",
       "      <th>2008-11-28</th>\n",
       "      <td>-5.130768</td>\n",
       "      <td>-0.493149</td>\n",
       "      <td>-6.017441</td>\n",
       "      <td>-0.433380</td>\n",
       "      <td>-0.433380</td>\n",
       "      <td>5150200</td>\n",
       "      <td>-5.897893</td>\n",
       "      <td>3.020363</td>\n",
       "      <td>0.727153</td>\n",
       "      <td>8.236770</td>\n",
       "      <td>...</td>\n",
       "      <td>6.243850</td>\n",
       "      <td>79.789023</td>\n",
       "      <td>0.871477</td>\n",
       "      <td>0.804582</td>\n",
       "      <td>0.756923</td>\n",
       "      <td>0.986298</td>\n",
       "      <td>0.009819</td>\n",
       "      <td>0.0</td>\n",
       "      <td>0.020583</td>\n",
       "      <td>0.0</td>\n",
       "    </tr>\n",
       "    <tr>\n",
       "      <th>2008-12-01</th>\n",
       "      <td>1.942719</td>\n",
       "      <td>4.518067</td>\n",
       "      <td>11.108368</td>\n",
       "      <td>13.434647</td>\n",
       "      <td>13.434647</td>\n",
       "      <td>11465100</td>\n",
       "      <td>4.761320</td>\n",
       "      <td>9.499730</td>\n",
       "      <td>-1.835291</td>\n",
       "      <td>7.898311</td>\n",
       "      <td>...</td>\n",
       "      <td>28.832448</td>\n",
       "      <td>70.921223</td>\n",
       "      <td>1.198604</td>\n",
       "      <td>0.976937</td>\n",
       "      <td>0.988249</td>\n",
       "      <td>-0.338730</td>\n",
       "      <td>-0.106038</td>\n",
       "      <td>0.0</td>\n",
       "      <td>0.126621</td>\n",
       "      <td>0.0</td>\n",
       "    </tr>\n",
       "  </tbody>\n",
       "</table>\n",
       "<p>5 rows × 44 columns</p>\n",
       "</div>"
      ],
      "text/plain": [
       "            google_open_sta  google_high_sta  google_low_sta  \\\n",
       "Date                                                           \n",
       "2008-11-24        -3.362396        -0.288910       -0.851807   \n",
       "2008-11-25         0.288910        -8.323806       -9.120803   \n",
       "2008-11-26        -5.778336        -4.383576       -4.423432   \n",
       "2008-11-28        -5.130768        -0.493149       -6.017441   \n",
       "2008-12-01         1.942719         4.518067       11.108368   \n",
       "\n",
       "            google_close_sta  google_sta  google_volume  google_ra_04_sta  \\\n",
       "Date                                                                        \n",
       "2008-11-24          2.485672    2.485672       20184700          7.453308   \n",
       "2008-11-25        -12.259049  -12.259049       21623100         -4.886688   \n",
       "2008-11-26         -5.001251   -5.001251       12760800         -3.710259   \n",
       "2008-11-28         -0.433380   -0.433380        5150200         -5.897893   \n",
       "2008-12-01         13.434647   13.434647       11465100          4.761320   \n",
       "\n",
       "            google_std_04  google_ra_09_sta  google_std_09  ...  \\\n",
       "Date                                                        ...   \n",
       "2008-11-24       1.757636          6.295568       9.599201  ...   \n",
       "2008-11-25       8.668457         -0.416891       8.831976  ...   \n",
       "2008-11-26       8.880829          0.571429       8.059325  ...   \n",
       "2008-11-28       3.020363          0.727153       8.236770  ...   \n",
       "2008-12-01       9.499730         -1.835291       7.898311  ...   \n",
       "\n",
       "            nasdaq_ra_18_sta  nasdaq_std_18  google_daily_vol  s&p_daily_vol  \\\n",
       "Date                                                                           \n",
       "2008-11-24         42.959638     101.345711          0.529842       0.864400   \n",
       "2008-11-25         15.222504      90.035297          0.833833       0.791313   \n",
       "2008-11-26         -3.755383      87.259170          0.812863       0.758392   \n",
       "2008-11-28          6.243850      79.789023          0.871477       0.804582   \n",
       "2008-12-01         28.832448      70.921223          1.198604       0.976937   \n",
       "\n",
       "            nasdaq_daily_vol  google_45d_sta  short_call_sta  short_put_sta  \\\n",
       "Date                                                                          \n",
       "2008-11-24          0.777819        1.185563       -0.014026            0.0   \n",
       "2008-11-25          0.710049       -0.811951        0.100201            0.0   \n",
       "2008-11-26          0.707779        6.650070        0.084011            0.0   \n",
       "2008-11-28          0.756923        0.986298        0.009819            0.0   \n",
       "2008-12-01          0.988249       -0.338730       -0.106038            0.0   \n",
       "\n",
       "            short_call  short_put  \n",
       "Date                               \n",
       "2008-11-24    0.214613        0.0  \n",
       "2008-11-25    0.114412        0.0  \n",
       "2008-11-26    0.030402        0.0  \n",
       "2008-11-28    0.020583        0.0  \n",
       "2008-12-01    0.126621        0.0  \n",
       "\n",
       "[5 rows x 44 columns]"
      ]
     },
     "execution_count": 94,
     "metadata": {},
     "output_type": "execute_result"
    }
   ],
   "source": [
    "df_sta = stationary_timeseries(df)\n",
    "df_sta['short_call'] = df.short_call # add it to be able to reverse differencing\n",
    "df_sta['short_put'] = df.short_put\n",
    "df_sta.head()"
   ]
  },
  {
   "cell_type": "code",
   "execution_count": 95,
   "metadata": {},
   "outputs": [
    {
     "data": {
      "text/plain": [
       "<matplotlib.axes._subplots.AxesSubplot at 0x7fd44a89d7f0>"
      ]
     },
     "execution_count": 95,
     "metadata": {},
     "output_type": "execute_result"
    },
    {
     "data": {
      "image/png": "[encoded data removed]",
      "text/plain": [
       "<Figure size 432x288 with 1 Axes>"
      ]
     },
     "metadata": {
      "needs_background": "light"
     },
     "output_type": "display_data"
    }
   ],
   "source": [
    "df_sta.reset_index().plot( x='Date', y=['short_call_sta'])"
   ]
  },
  {
   "cell_type": "code",
   "execution_count": 96,
   "metadata": {},
   "outputs": [],
   "source": [
    "backup['df'] = df\n",
    "backup['df_sta'] = df_sta"
   ]
  },
  {
   "cell_type": "markdown",
   "metadata": {},
   "source": [
    "### Price of options\n",
    "It is really hard to get data about historic stock options. Be it as api channel or csv download. I managed only to find sources to pay: 500 USD for every year. Because that is too expensive for this project I decided to calculate the option price with the **Black–Scholes formula**, which gives a theoretical estimate of the price of European-style options.\n",
    "\n",
    "Based on the formula for non-divident paying options I calculate the option prices and add a small random term to create a bit of noise."
   ]
  },
  {
   "cell_type": "code",
   "execution_count": 97,
   "metadata": {},
   "outputs": [],
   "source": [
    "def black_scholes(S, K, sigma, r=0.03, T=45/365, option = 'call'):\n",
    "    \n",
    "    #S: spot price\n",
    "    #K: strike price\n",
    "    #T: time to maturity in years, 45 days as default\n",
    "    #r: risk-free interest rate, assumed to be constant between t and T\n",
    "    #sigma: standard deviation (volatility) of RETURNS of underlying asset\n",
    "    \n",
    "    d1 = (np.log(S / K) + (r + 0.5 * sigma ** 2) * T) / (sigma * np.sqrt(T))\n",
    "    #d2 = (np.log(S / K) + (r - 0.5 * sigma ** 2) * T) / (sigma * np.sqrt(T))\n",
    "    d2 = d1 - sigma * np.sqrt(T)\n",
    "    \n",
    "    if option == 'call':\n",
    "        result = (S * si.norm.cdf(d1, 0.0, 1.0) - K * np.exp(-r * T) * si.norm.cdf(d2, 0.0, 1.0))\n",
    "    if option == 'put':\n",
    "        result = (K * np.exp(-r * T) * si.norm.cdf(-d2, 0.0, 1.0) - S * si.norm.cdf(-d1, 0.0, 1.0))\n",
    "        \n",
    "    return result"
   ]
  },
  {
   "cell_type": "code",
   "execution_count": 98,
   "metadata": {},
   "outputs": [],
   "source": [
    "def option_prices(date, short_spread, long_spread, strike_days = 45):\n",
    "    # calculates prices of options and calculates initial return (net premium)\n",
    "    date = date_fct(date)\n",
    "    P_s_strike_price, P_l_strike_price, C_s_strike_price, C_l_strike_price = strike_prices(date, short_spread, long_spread)\n",
    "    sigma = get_sigma(date)\n",
    "    stock_price = stock_price_fct(date)\n",
    "    P_s_price = black_scholes(stock_price, P_s_strike_price, sigma, T=strike_days/365, option = 'put')\n",
    "    P_l_price = black_scholes(stock_price, P_l_strike_price, sigma, T=strike_days/365, option = 'put')\n",
    "    C_s_price = black_scholes(stock_price, C_s_strike_price, sigma, T=strike_days/365, option = 'call')\n",
    "    C_l_price = black_scholes(stock_price, C_l_strike_price, sigma, T=strike_days/365, option = 'call')\n",
    "    initial_return = P_s_price + C_s_price - P_l_price - C_l_price\n",
    "    \n",
    "    return P_s_price, P_l_price, C_s_price, C_l_price, initial_return"
   ]
  },
  {
   "cell_type": "markdown",
   "metadata": {},
   "source": [
    "Now it is time to calculate the strike prices and option prices of all 4 options and the initial return by setting up the iron condor"
   ]
  },
  {
   "cell_type": "markdown",
   "metadata": {},
   "source": [
    "### Calculate return of options\n",
    "There are five different regimes for the return. R: return, P(C) put(call) option, s(l): short(long), ir: initial return, stock_price: stock price\n",
    "- stock price is below long put option: R = ir + P_l_strike_price - P_s_strike_price\n",
    "- stock price is between long and short put option: R = ir + stock_price - P_s_strike_price\n",
    "- stock price is between short call and short put option: R = ir\n",
    "- stock price is between short and long call option: R = ir - stock_price + C_s_strike price\n",
    "- stock price is above long call option: R = ir - C_l_strike_price + C_s_strike_price"
   ]
  },
  {
   "cell_type": "markdown",
   "metadata": {},
   "source": [
    "#### Define return function of iron condor"
   ]
  },
  {
   "cell_type": "code",
   "execution_count": 99,
   "metadata": {},
   "outputs": [],
   "source": [
    "def ic_return(trading_date, short_spread, long_spread, strike_days = 45):\n",
    "    P_s_strike_price, P_l_strike_price, C_s_strike_price, C_l_strike_price = strike_prices(trading_date, short_spread, long_spread)\n",
    "    P_s_price, P_l_price, C_s_price, C_l_price, initial_return = option_prices(trading_date,short_spread, long_spread, strike_days)\n",
    "    strike_date = date_fct(trading_date, 45)\n",
    "    final_stock_price = stock_price_fct(strike_date)\n",
    "    if final_stock_price < P_l_strike_price:\n",
    "        final_result = initial_return + P_l_strike_price - P_s_strike_price\n",
    "    elif final_stock_price >= P_l_strike_price and final_stock_price < P_s_strike_price:\n",
    "        final_result = initial_return + stock_price - P_s_strike_price\n",
    "    elif final_stock_price >= P_s_strike_price and final_stock_price < C_s_strike_price:\n",
    "        final_result = initial_return\n",
    "    elif final_stock_price >= C_s_strike_price and final_stock_price < C_l_strike_price:\n",
    "        final_result = initial_return - final_stock_price + C_s_strike_price\n",
    "    elif final_stock_price >= C_l_strike_price:\n",
    "        final_result = initial_return - C_l_strike_price + C_s_strike_price\n",
    "    maximum_result = initial_return\n",
    "    return final_result"
   ]
  },
  {
   "cell_type": "markdown",
   "metadata": {},
   "source": [
    "### Building the model"
   ]
  },
  {
   "cell_type": "markdown",
   "metadata": {},
   "source": [
    "#### Scale data"
   ]
  },
  {
   "cell_type": "code",
   "execution_count": 100,
   "metadata": {},
   "outputs": [
    {
     "name": "stderr",
     "output_type": "stream",
     "text": [
      "/home/matthias/anaconda3/lib/python3.7/site-packages/sklearn/preprocessing/data.py:334: DataConversionWarning: Data with input dtype int64, float64 were all converted to float64 by MinMaxScaler.\n",
      "  return self.partial_fit(X, y)\n"
     ]
    }
   ],
   "source": [
    "scaler = preprocessing.MinMaxScaler(feature_range=(-1, 1))\n",
    "df_sta_scaled = pd.DataFrame(scaler.fit_transform(df_sta), columns=df_sta.columns, index = df_sta.index)"
   ]
  },
  {
   "cell_type": "markdown",
   "metadata": {},
   "source": [
    "#### Split into train and test set"
   ]
  },
  {
   "cell_type": "code",
   "execution_count": 101,
   "metadata": {},
   "outputs": [],
   "source": [
    "def get_train_test_data(data, train_test_split, batch_size):\n",
    "    # data is dataframe to get train test data out of\n",
    "    train_size_raw = data.shape[0]*train_test_split\n",
    "    train_size = int(train_size_raw - train_size_raw % batch_size) # make train_size multiple of batch_size for \"statefull = True\" in LSTM\n",
    "    train_data = data.iloc[0:train_size]\n",
    "    test_size_raw = data.shape[0] - train_size\n",
    "    test_size = int(test_size_raw - test_size_raw%batch_size) # multiple of batch_size\n",
    "    test_data = data.iloc[train_size : train_size + test_size]\n",
    "    x_train = train_data.drop(columns=['google_45d_sta','short_call_sta','short_put_sta','short_call','short_put']) # google_45d is not for training, just for reversing stationarity\n",
    "    y_train = train_data[['short_call_sta','short_put_sta']]\n",
    "    x_test = test_data.drop(columns=['google_45d_sta','short_call_sta','short_put_sta','short_call','short_put'])\n",
    "    y_test = test_data[['short_call_sta','short_put_sta']]\n",
    "    train_index=x_train.index\n",
    "    x_columns = x_train.columns\n",
    "    test_index = x_test.index\n",
    "    return x_train, x_test, y_train, y_test, test_data, test_index, x_columns"
   ]
  },
  {
   "cell_type": "code",
   "execution_count": 102,
   "metadata": {},
   "outputs": [],
   "source": [
    "batch_size = 10\n",
    "train_test_split = 0.9\n",
    "x_train, x_test, y_train, y_test, test_data, test_index, x_columns = get_train_test_data(df_sta_scaled, train_test_split, batch_size)"
   ]
  },
  {
   "cell_type": "markdown",
   "metadata": {},
   "source": [
    "### Sequential model"
   ]
  },
  {
   "cell_type": "code",
   "execution_count": 103,
   "metadata": {},
   "outputs": [
    {
     "name": "stdout",
     "output_type": "stream",
     "text": [
      "_________________________________________________________________\n",
      "Layer (type)                 Output Shape              Param #   \n",
      "=================================================================\n",
      "dense_10 (Dense)             (None, 128)               5120      \n",
      "_________________________________________________________________\n",
      "dropout_7 (Dropout)          (None, 128)               0         \n",
      "_________________________________________________________________\n",
      "dense_11 (Dense)             (None, 16)                2064      \n",
      "_________________________________________________________________\n",
      "dropout_8 (Dropout)          (None, 16)                0         \n",
      "_________________________________________________________________\n",
      "dense_12 (Dense)             (None, 4)                 68        \n",
      "_________________________________________________________________\n",
      "dropout_9 (Dropout)          (None, 4)                 0         \n",
      "_________________________________________________________________\n",
      "dense_13 (Dense)             (None, 2)                 10        \n",
      "=================================================================\n",
      "Total params: 7,262\n",
      "Trainable params: 7,262\n",
      "Non-trainable params: 0\n",
      "_________________________________________________________________\n"
     ]
    }
   ],
   "source": [
    "# Build the model architecture\n",
    "seq_model = Sequential()\n",
    "seq_model.add(Dense(128, activation='relu', input_shape=(x_train.shape[1],)))\n",
    "seq_model.add(Dropout(0.2))\n",
    "seq_model.add(Dense(16, activation='relu'))\n",
    "seq_model.add(Dropout(0.2))\n",
    "seq_model.add(Dense(4, activation='relu'))\n",
    "seq_model.add(Dropout(0.2))\n",
    "seq_model.add(Dense(2))\n",
    "\n",
    "# Compile the model using a loss function and an optimizer.\n",
    "seq_model.compile(optimizer='adam',loss='mean_squared_error')\n",
    "seq_model.summary()"
   ]
  },
  {
   "cell_type": "code",
   "execution_count": null,
   "metadata": {},
   "outputs": [
    {
     "name": "stdout",
     "output_type": "stream",
     "text": [
      "Train on 2370 samples, validate on 260 samples\n",
      "Epoch 1/3000\n",
      "2370/2370 [==============================] - 1s 358us/step - loss: 0.0211 - val_loss: 0.0182\n",
      "Epoch 2/3000\n",
      "2370/2370 [==============================] - 0s 51us/step - loss: 0.0160 - val_loss: 0.0165\n",
      "Epoch 3/3000\n",
      "2370/2370 [==============================] - 0s 49us/step - loss: 0.0143 - val_loss: 0.0161\n",
      "Epoch 4/3000\n",
      "2370/2370 [==============================] - 0s 45us/step - loss: 0.0141 - val_loss: 0.0153\n",
      "Epoch 5/3000\n",
      "2370/2370 [==============================] - 0s 42us/step - loss: 0.0138 - val_loss: 0.0151\n",
      "Epoch 6/3000\n",
      "2370/2370 [==============================] - 0s 35us/step - loss: 0.0134 - val_loss: 0.0148\n",
      "Epoch 7/3000\n",
      "2370/2370 [==============================] - 0s 57us/step - loss: 0.0133 - val_loss: 0.0149\n",
      "Epoch 8/3000\n",
      "2370/2370 [==============================] - 0s 46us/step - loss: 0.0132 - val_loss: 0.0148\n",
      "Epoch 9/3000\n",
      "2370/2370 [==============================] - 0s 49us/step - loss: 0.0131 - val_loss: 0.0148\n",
      "Epoch 10/3000\n",
      "2370/2370 [==============================] - 0s 45us/step - loss: 0.0130 - val_loss: 0.0146\n",
      "Epoch 11/3000\n",
      "2370/2370 [==============================] - 0s 57us/step - loss: 0.0130 - val_loss: 0.0145\n",
      "Epoch 12/3000\n",
      "2370/2370 [==============================] - 0s 105us/step - loss: 0.0129 - val_loss: 0.0144\n",
      "Epoch 13/3000\n",
      "2370/2370 [==============================] - 0s 73us/step - loss: 0.0125 - val_loss: 0.0143\n",
      "Epoch 14/3000\n",
      "2370/2370 [==============================] - 0s 48us/step - loss: 0.0127 - val_loss: 0.0143\n",
      "Epoch 15/3000\n",
      "2370/2370 [==============================] - 0s 42us/step - loss: 0.0128 - val_loss: 0.0144\n",
      "Epoch 16/3000\n",
      "2370/2370 [==============================] - 0s 50us/step - loss: 0.0129 - val_loss: 0.0143\n",
      "Epoch 17/3000\n",
      "2370/2370 [==============================] - 0s 48us/step - loss: 0.0123 - val_loss: 0.0142\n",
      "Epoch 18/3000\n",
      "2370/2370 [==============================] - 0s 57us/step - loss: 0.0126 - val_loss: 0.0142\n",
      "Epoch 19/3000\n",
      "2370/2370 [==============================] - 0s 48us/step - loss: 0.0122 - val_loss: 0.0142\n",
      "Epoch 20/3000\n",
      "2370/2370 [==============================] - 0s 46us/step - loss: 0.0124 - val_loss: 0.0143\n",
      "Epoch 21/3000\n",
      "2370/2370 [==============================] - 0s 47us/step - loss: 0.0123 - val_loss: 0.0144\n",
      "Epoch 22/3000\n",
      "2370/2370 [==============================] - 0s 47us/step - loss: 0.0123 - val_loss: 0.0145\n",
      "Epoch 23/3000\n",
      "2370/2370 [==============================] - 0s 54us/step - loss: 0.0122 - val_loss: 0.0143\n",
      "Epoch 24/3000\n",
      "2300/2370 [============================>.] - ETA: 0s - loss: 0.0124"
     ]
    }
   ],
   "source": [
    "history=seq_model.fit(x_train, y_train, epochs=3000, batch_size=50, verbose=1, validation_data=(x_test, y_test));"
   ]
  },
  {
   "cell_type": "code",
   "execution_count": null,
   "metadata": {},
   "outputs": [],
   "source": [
    "seq_model.evaluate(x_train, y_train)"
   ]
  },
  {
   "cell_type": "code",
   "execution_count": 46,
   "metadata": {},
   "outputs": [
    {
     "data": {
      "image/png": "[encoded data removed]",
      "text/plain": [
       "<Figure size 432x288 with 1 Axes>"
      ]
     },
     "metadata": {
      "needs_background": "light"
     },
     "output_type": "display_data"
    }
   ],
   "source": [
    "from matplotlib import pyplot\n",
    "plt.plot(history.history['loss'], label='Training Loss')\n",
    "plt.plot(history.history['val_loss'], label='Testing Loss')\n",
    "plt.yscale(\"log\")\n",
    "plt.grid()\n",
    "plt.legend()\n",
    "plt.show()"
   ]
  },
  {
   "cell_type": "code",
   "execution_count": 47,
   "metadata": {},
   "outputs": [],
   "source": [
    "def rolling_seq_prediction(model,x_test,y_test):\n",
    "    predictions = list()\n",
    "    for i in x_test.index:\n",
    "        # make one-step forecast\n",
    "        X = x_test.loc[i].to_numpy().reshape(1,x_test.shape[1]) # reshape single line to have just 1 row\n",
    "        y = y_test.loc[i]\n",
    "        yhat = seq_model.predict(X).reshape(1,y_test.shape[1]) # reshape prediction to be just a 1D array\n",
    "        # store forecast\n",
    "        predictions.append(yhat[0])\n",
    "    return predictions"
   ]
  },
  {
   "cell_type": "code",
   "execution_count": 48,
   "metadata": {
    "scrolled": true
   },
   "outputs": [],
   "source": [
    "yhat = rolling_seq_prediction(seq_model,x_test,y_test)\n",
    "raw_seq_predictions = pd.DataFrame(yhat,columns = ['seq_call_prediction','seq_put_prediction'], index = test_index)"
   ]
  },
  {
   "cell_type": "code",
   "execution_count": 49,
   "metadata": {},
   "outputs": [],
   "source": [
    "# Invert scaling for prediction data\n",
    "x_test = pd.DataFrame(x_test, columns = x_columns, index = test_index)\n",
    "unscaled_seq_predictions = pd.concat([x_test, test_data.google_45d_sta], axis=1)\n",
    "unscaled_seq_predictions = pd.concat([unscaled_seq_predictions, raw_seq_predictions], axis=1)\n",
    "unscaled_seq_predictions = pd.concat([unscaled_seq_predictions, test_data[['short_call','short_put']]], axis=1)\n",
    "unscaled_seq_predictions = pd.DataFrame(scaler.inverse_transform(unscaled_seq_predictions), columns=unscaled_seq_predictions.columns, index=unscaled_seq_predictions.index)\n",
    "\n",
    "# Invert scaling for actual data\n",
    "unscaled_data = pd.concat([x_test, test_data.google_45d_sta], axis=1)\n",
    "unscaled_data = pd.concat([unscaled_data, test_data[['short_call_sta','short_put_sta','short_call','short_put']]], axis=1)\n",
    "unscaled_data = pd.DataFrame(scaler.inverse_transform(unscaled_data), columns=unscaled_data.columns, index=unscaled_data.index)"
   ]
  },
  {
   "cell_type": "code",
   "execution_count": 82,
   "metadata": {},
   "outputs": [],
   "source": [
    "backup['unscaled_seq_predictions'] = unscaled_seq_predictions\n",
    "backup['unscaled_data'] = unscaled_data"
   ]
  },
  {
   "cell_type": "code",
   "execution_count": 50,
   "metadata": {},
   "outputs": [
    {
     "data": {
      "text/html": [
       "<div>\n",
       "<style scoped>\n",
       "    .dataframe tbody tr th:only-of-type {\n",
       "        vertical-align: middle;\n",
       "    }\n",
       "\n",
       "    .dataframe tbody tr th {\n",
       "        vertical-align: top;\n",
       "    }\n",
       "\n",
       "    .dataframe thead th {\n",
       "        text-align: right;\n",
       "    }\n",
       "</style>\n",
       "<table border=\"1\" class=\"dataframe\">\n",
       "  <thead>\n",
       "    <tr style=\"text-align: right;\">\n",
       "      <th></th>\n",
       "      <th>google_open_sta</th>\n",
       "      <th>google_high_sta</th>\n",
       "      <th>google_low_sta</th>\n",
       "      <th>google_close_sta</th>\n",
       "      <th>google_sta</th>\n",
       "      <th>google_volume</th>\n",
       "      <th>google_ra_04_sta</th>\n",
       "      <th>google_std_04</th>\n",
       "      <th>google_ra_09_sta</th>\n",
       "      <th>google_std_09</th>\n",
       "      <th>...</th>\n",
       "      <th>nasdaq_ra_18_sta</th>\n",
       "      <th>nasdaq_std_18</th>\n",
       "      <th>google_daily_vol</th>\n",
       "      <th>s&amp;p_daily_vol</th>\n",
       "      <th>nasdaq_daily_vol</th>\n",
       "      <th>google_45d_sta</th>\n",
       "      <th>seq_call_prediction</th>\n",
       "      <th>seq_put_prediction</th>\n",
       "      <th>short_call</th>\n",
       "      <th>short_put</th>\n",
       "    </tr>\n",
       "    <tr>\n",
       "      <th>Date</th>\n",
       "      <th></th>\n",
       "      <th></th>\n",
       "      <th></th>\n",
       "      <th></th>\n",
       "      <th></th>\n",
       "      <th></th>\n",
       "      <th></th>\n",
       "      <th></th>\n",
       "      <th></th>\n",
       "      <th></th>\n",
       "      <th></th>\n",
       "      <th></th>\n",
       "      <th></th>\n",
       "      <th></th>\n",
       "      <th></th>\n",
       "      <th></th>\n",
       "      <th></th>\n",
       "      <th></th>\n",
       "      <th></th>\n",
       "      <th></th>\n",
       "      <th></th>\n",
       "    </tr>\n",
       "  </thead>\n",
       "  <tbody>\n",
       "    <tr>\n",
       "      <th>2018-08-01</th>\n",
       "      <td>-7.989990</td>\n",
       "      <td>-5.881958</td>\n",
       "      <td>-4.609985</td>\n",
       "      <td>-2.750000</td>\n",
       "      <td>-2.750000</td>\n",
       "      <td>1567200.0</td>\n",
       "      <td>-0.503337</td>\n",
       "      <td>1.515790</td>\n",
       "      <td>-2.072859</td>\n",
       "      <td>21.433011</td>\n",
       "      <td>...</td>\n",
       "      <td>7.561348</td>\n",
       "      <td>85.881161</td>\n",
       "      <td>0.285090</td>\n",
       "      <td>0.083101</td>\n",
       "      <td>0.146205</td>\n",
       "      <td>-5.169922</td>\n",
       "      <td>-0.000585</td>\n",
       "      <td>-0.000798</td>\n",
       "      <td>0.0</td>\n",
       "      <td>0.048188</td>\n",
       "    </tr>\n",
       "    <tr>\n",
       "      <th>2018-08-02</th>\n",
       "      <td>22.099976</td>\n",
       "      <td>3.589966</td>\n",
       "      <td>5.419922</td>\n",
       "      <td>-6.140014</td>\n",
       "      <td>-6.140014</td>\n",
       "      <td>1531300.0</td>\n",
       "      <td>-1.786672</td>\n",
       "      <td>3.781604</td>\n",
       "      <td>3.132847</td>\n",
       "      <td>21.550840</td>\n",
       "      <td>...</td>\n",
       "      <td>-0.333123</td>\n",
       "      <td>82.521365</td>\n",
       "      <td>0.271257</td>\n",
       "      <td>0.086055</td>\n",
       "      <td>0.164864</td>\n",
       "      <td>-9.869995</td>\n",
       "      <td>0.003111</td>\n",
       "      <td>-0.002157</td>\n",
       "      <td>0.0</td>\n",
       "      <td>0.044905</td>\n",
       "    </tr>\n",
       "    <tr>\n",
       "      <th>2018-08-03</th>\n",
       "      <td>-23.719971</td>\n",
       "      <td>-0.119995</td>\n",
       "      <td>-10.270020</td>\n",
       "      <td>2.440063</td>\n",
       "      <td>2.440063</td>\n",
       "      <td>1089600.0</td>\n",
       "      <td>-0.992493</td>\n",
       "      <td>3.932133</td>\n",
       "      <td>5.712856</td>\n",
       "      <td>18.079647</td>\n",
       "      <td>...</td>\n",
       "      <td>-0.449254</td>\n",
       "      <td>82.581619</td>\n",
       "      <td>0.214106</td>\n",
       "      <td>0.085981</td>\n",
       "      <td>0.165144</td>\n",
       "      <td>-15.780029</td>\n",
       "      <td>-0.001027</td>\n",
       "      <td>-0.000367</td>\n",
       "      <td>0.0</td>\n",
       "      <td>0.030105</td>\n",
       "    </tr>\n",
       "    <tr>\n",
       "      <th>2018-08-06</th>\n",
       "      <td>4.619995</td>\n",
       "      <td>3.911987</td>\n",
       "      <td>-0.736938</td>\n",
       "      <td>-1.060059</td>\n",
       "      <td>-1.060059</td>\n",
       "      <td>1081700.0</td>\n",
       "      <td>-2.457489</td>\n",
       "      <td>0.749575</td>\n",
       "      <td>8.588562</td>\n",
       "      <td>3.444802</td>\n",
       "      <td>...</td>\n",
       "      <td>6.463542</td>\n",
       "      <td>87.849464</td>\n",
       "      <td>0.151643</td>\n",
       "      <td>0.065983</td>\n",
       "      <td>0.139857</td>\n",
       "      <td>20.780029</td>\n",
       "      <td>0.002201</td>\n",
       "      <td>-0.001946</td>\n",
       "      <td>0.0</td>\n",
       "      <td>0.047911</td>\n",
       "    </tr>\n",
       "    <tr>\n",
       "      <th>2018-08-07</th>\n",
       "      <td>-12.000000</td>\n",
       "      <td>-25.082031</td>\n",
       "      <td>-20.373047</td>\n",
       "      <td>-17.449951</td>\n",
       "      <td>-17.449951</td>\n",
       "      <td>1494000.0</td>\n",
       "      <td>-9.255005</td>\n",
       "      <td>12.338979</td>\n",
       "      <td>-2.897138</td>\n",
       "      <td>8.285092</td>\n",
       "      <td>...</td>\n",
       "      <td>-5.288330</td>\n",
       "      <td>91.512420</td>\n",
       "      <td>0.164522</td>\n",
       "      <td>0.060471</td>\n",
       "      <td>0.127694</td>\n",
       "      <td>-7.280029</td>\n",
       "      <td>0.012131</td>\n",
       "      <td>-0.005354</td>\n",
       "      <td>0.0</td>\n",
       "      <td>0.055425</td>\n",
       "    </tr>\n",
       "  </tbody>\n",
       "</table>\n",
       "<p>5 rows × 44 columns</p>\n",
       "</div>"
      ],
      "text/plain": [
       "            google_open_sta  google_high_sta  google_low_sta  \\\n",
       "Date                                                           \n",
       "2018-08-01        -7.989990        -5.881958       -4.609985   \n",
       "2018-08-02        22.099976         3.589966        5.419922   \n",
       "2018-08-03       -23.719971        -0.119995      -10.270020   \n",
       "2018-08-06         4.619995         3.911987       -0.736938   \n",
       "2018-08-07       -12.000000       -25.082031      -20.373047   \n",
       "\n",
       "            google_close_sta  google_sta  google_volume  google_ra_04_sta  \\\n",
       "Date                                                                        \n",
       "2018-08-01         -2.750000   -2.750000      1567200.0         -0.503337   \n",
       "2018-08-02         -6.140014   -6.140014      1531300.0         -1.786672   \n",
       "2018-08-03          2.440063    2.440063      1089600.0         -0.992493   \n",
       "2018-08-06         -1.060059   -1.060059      1081700.0         -2.457489   \n",
       "2018-08-07        -17.449951  -17.449951      1494000.0         -9.255005   \n",
       "\n",
       "            google_std_04  google_ra_09_sta  google_std_09  ...  \\\n",
       "Date                                                        ...   \n",
       "2018-08-01       1.515790         -2.072859      21.433011  ...   \n",
       "2018-08-02       3.781604          3.132847      21.550840  ...   \n",
       "2018-08-03       3.932133          5.712856      18.079647  ...   \n",
       "2018-08-06       0.749575          8.588562       3.444802  ...   \n",
       "2018-08-07      12.338979         -2.897138       8.285092  ...   \n",
       "\n",
       "            nasdaq_ra_18_sta  nasdaq_std_18  google_daily_vol  s&p_daily_vol  \\\n",
       "Date                                                                           \n",
       "2018-08-01          7.561348      85.881161          0.285090       0.083101   \n",
       "2018-08-02         -0.333123      82.521365          0.271257       0.086055   \n",
       "2018-08-03         -0.449254      82.581619          0.214106       0.085981   \n",
       "2018-08-06          6.463542      87.849464          0.151643       0.065983   \n",
       "2018-08-07         -5.288330      91.512420          0.164522       0.060471   \n",
       "\n",
       "            nasdaq_daily_vol  google_45d_sta  seq_call_prediction  \\\n",
       "Date                                                                \n",
       "2018-08-01          0.146205       -5.169922            -0.000585   \n",
       "2018-08-02          0.164864       -9.869995             0.003111   \n",
       "2018-08-03          0.165144      -15.780029            -0.001027   \n",
       "2018-08-06          0.139857       20.780029             0.002201   \n",
       "2018-08-07          0.127694       -7.280029             0.012131   \n",
       "\n",
       "            seq_put_prediction  short_call  short_put  \n",
       "Date                                                   \n",
       "2018-08-01           -0.000798         0.0   0.048188  \n",
       "2018-08-02           -0.002157         0.0   0.044905  \n",
       "2018-08-03           -0.000367         0.0   0.030105  \n",
       "2018-08-06           -0.001946         0.0   0.047911  \n",
       "2018-08-07           -0.005354         0.0   0.055425  \n",
       "\n",
       "[5 rows x 44 columns]"
      ]
     },
     "execution_count": 50,
     "metadata": {},
     "output_type": "execute_result"
    }
   ],
   "source": [
    "unscaled_seq_predictions.head()"
   ]
  },
  {
   "cell_type": "code",
   "execution_count": 51,
   "metadata": {},
   "outputs": [
    {
     "data": {
      "text/html": [
       "<div>\n",
       "<style scoped>\n",
       "    .dataframe tbody tr th:only-of-type {\n",
       "        vertical-align: middle;\n",
       "    }\n",
       "\n",
       "    .dataframe tbody tr th {\n",
       "        vertical-align: top;\n",
       "    }\n",
       "\n",
       "    .dataframe thead th {\n",
       "        text-align: right;\n",
       "    }\n",
       "</style>\n",
       "<table border=\"1\" class=\"dataframe\">\n",
       "  <thead>\n",
       "    <tr style=\"text-align: right;\">\n",
       "      <th></th>\n",
       "      <th>google_open_sta</th>\n",
       "      <th>google_high_sta</th>\n",
       "      <th>google_low_sta</th>\n",
       "      <th>google_close_sta</th>\n",
       "      <th>google_sta</th>\n",
       "      <th>google_volume</th>\n",
       "      <th>google_ra_04_sta</th>\n",
       "      <th>google_std_04</th>\n",
       "      <th>google_ra_09_sta</th>\n",
       "      <th>google_std_09</th>\n",
       "      <th>...</th>\n",
       "      <th>nasdaq_ra_18_sta</th>\n",
       "      <th>nasdaq_std_18</th>\n",
       "      <th>google_daily_vol</th>\n",
       "      <th>s&amp;p_daily_vol</th>\n",
       "      <th>nasdaq_daily_vol</th>\n",
       "      <th>google_45d_sta</th>\n",
       "      <th>short_call_sta</th>\n",
       "      <th>short_put_sta</th>\n",
       "      <th>short_call</th>\n",
       "      <th>short_put</th>\n",
       "    </tr>\n",
       "    <tr>\n",
       "      <th>Date</th>\n",
       "      <th></th>\n",
       "      <th></th>\n",
       "      <th></th>\n",
       "      <th></th>\n",
       "      <th></th>\n",
       "      <th></th>\n",
       "      <th></th>\n",
       "      <th></th>\n",
       "      <th></th>\n",
       "      <th></th>\n",
       "      <th></th>\n",
       "      <th></th>\n",
       "      <th></th>\n",
       "      <th></th>\n",
       "      <th></th>\n",
       "      <th></th>\n",
       "      <th></th>\n",
       "      <th></th>\n",
       "      <th></th>\n",
       "      <th></th>\n",
       "      <th></th>\n",
       "    </tr>\n",
       "  </thead>\n",
       "  <tbody>\n",
       "    <tr>\n",
       "      <th>2018-08-01</th>\n",
       "      <td>-7.989990</td>\n",
       "      <td>-5.881958</td>\n",
       "      <td>-4.609985</td>\n",
       "      <td>-2.750000</td>\n",
       "      <td>-2.750000</td>\n",
       "      <td>1567200.0</td>\n",
       "      <td>-0.503337</td>\n",
       "      <td>1.515790</td>\n",
       "      <td>-2.072859</td>\n",
       "      <td>21.433011</td>\n",
       "      <td>...</td>\n",
       "      <td>7.561348</td>\n",
       "      <td>85.881161</td>\n",
       "      <td>0.285090</td>\n",
       "      <td>0.083101</td>\n",
       "      <td>0.146205</td>\n",
       "      <td>-5.169922</td>\n",
       "      <td>0.0</td>\n",
       "      <td>0.002097</td>\n",
       "      <td>0.0</td>\n",
       "      <td>0.048188</td>\n",
       "    </tr>\n",
       "    <tr>\n",
       "      <th>2018-08-02</th>\n",
       "      <td>22.099976</td>\n",
       "      <td>3.589966</td>\n",
       "      <td>5.419922</td>\n",
       "      <td>-6.140014</td>\n",
       "      <td>-6.140014</td>\n",
       "      <td>1531300.0</td>\n",
       "      <td>-1.786672</td>\n",
       "      <td>3.781604</td>\n",
       "      <td>3.132847</td>\n",
       "      <td>21.550840</td>\n",
       "      <td>...</td>\n",
       "      <td>-0.333123</td>\n",
       "      <td>82.521365</td>\n",
       "      <td>0.271257</td>\n",
       "      <td>0.086055</td>\n",
       "      <td>0.164864</td>\n",
       "      <td>-9.869995</td>\n",
       "      <td>0.0</td>\n",
       "      <td>0.003283</td>\n",
       "      <td>0.0</td>\n",
       "      <td>0.044905</td>\n",
       "    </tr>\n",
       "    <tr>\n",
       "      <th>2018-08-03</th>\n",
       "      <td>-23.719971</td>\n",
       "      <td>-0.119995</td>\n",
       "      <td>-10.270020</td>\n",
       "      <td>2.440063</td>\n",
       "      <td>2.440063</td>\n",
       "      <td>1089600.0</td>\n",
       "      <td>-0.992493</td>\n",
       "      <td>3.932133</td>\n",
       "      <td>5.712856</td>\n",
       "      <td>18.079647</td>\n",
       "      <td>...</td>\n",
       "      <td>-0.449254</td>\n",
       "      <td>82.581619</td>\n",
       "      <td>0.214106</td>\n",
       "      <td>0.085981</td>\n",
       "      <td>0.165144</td>\n",
       "      <td>-15.780029</td>\n",
       "      <td>0.0</td>\n",
       "      <td>0.014800</td>\n",
       "      <td>0.0</td>\n",
       "      <td>0.030105</td>\n",
       "    </tr>\n",
       "    <tr>\n",
       "      <th>2018-08-06</th>\n",
       "      <td>4.619995</td>\n",
       "      <td>3.911987</td>\n",
       "      <td>-0.736938</td>\n",
       "      <td>-1.060059</td>\n",
       "      <td>-1.060059</td>\n",
       "      <td>1081700.0</td>\n",
       "      <td>-2.457489</td>\n",
       "      <td>0.749575</td>\n",
       "      <td>8.588562</td>\n",
       "      <td>3.444802</td>\n",
       "      <td>...</td>\n",
       "      <td>6.463542</td>\n",
       "      <td>87.849464</td>\n",
       "      <td>0.151643</td>\n",
       "      <td>0.065983</td>\n",
       "      <td>0.139857</td>\n",
       "      <td>20.780029</td>\n",
       "      <td>0.0</td>\n",
       "      <td>-0.017806</td>\n",
       "      <td>0.0</td>\n",
       "      <td>0.047911</td>\n",
       "    </tr>\n",
       "    <tr>\n",
       "      <th>2018-08-07</th>\n",
       "      <td>-12.000000</td>\n",
       "      <td>-25.082031</td>\n",
       "      <td>-20.373047</td>\n",
       "      <td>-17.449951</td>\n",
       "      <td>-17.449951</td>\n",
       "      <td>1494000.0</td>\n",
       "      <td>-9.255005</td>\n",
       "      <td>12.338979</td>\n",
       "      <td>-2.897138</td>\n",
       "      <td>8.285092</td>\n",
       "      <td>...</td>\n",
       "      <td>-5.288330</td>\n",
       "      <td>91.512420</td>\n",
       "      <td>0.164522</td>\n",
       "      <td>0.060471</td>\n",
       "      <td>0.127694</td>\n",
       "      <td>-7.280029</td>\n",
       "      <td>0.0</td>\n",
       "      <td>-0.007514</td>\n",
       "      <td>0.0</td>\n",
       "      <td>0.055425</td>\n",
       "    </tr>\n",
       "  </tbody>\n",
       "</table>\n",
       "<p>5 rows × 44 columns</p>\n",
       "</div>"
      ],
      "text/plain": [
       "            google_open_sta  google_high_sta  google_low_sta  \\\n",
       "Date                                                           \n",
       "2018-08-01        -7.989990        -5.881958       -4.609985   \n",
       "2018-08-02        22.099976         3.589966        5.419922   \n",
       "2018-08-03       -23.719971        -0.119995      -10.270020   \n",
       "2018-08-06         4.619995         3.911987       -0.736938   \n",
       "2018-08-07       -12.000000       -25.082031      -20.373047   \n",
       "\n",
       "            google_close_sta  google_sta  google_volume  google_ra_04_sta  \\\n",
       "Date                                                                        \n",
       "2018-08-01         -2.750000   -2.750000      1567200.0         -0.503337   \n",
       "2018-08-02         -6.140014   -6.140014      1531300.0         -1.786672   \n",
       "2018-08-03          2.440063    2.440063      1089600.0         -0.992493   \n",
       "2018-08-06         -1.060059   -1.060059      1081700.0         -2.457489   \n",
       "2018-08-07        -17.449951  -17.449951      1494000.0         -9.255005   \n",
       "\n",
       "            google_std_04  google_ra_09_sta  google_std_09  ...  \\\n",
       "Date                                                        ...   \n",
       "2018-08-01       1.515790         -2.072859      21.433011  ...   \n",
       "2018-08-02       3.781604          3.132847      21.550840  ...   \n",
       "2018-08-03       3.932133          5.712856      18.079647  ...   \n",
       "2018-08-06       0.749575          8.588562       3.444802  ...   \n",
       "2018-08-07      12.338979         -2.897138       8.285092  ...   \n",
       "\n",
       "            nasdaq_ra_18_sta  nasdaq_std_18  google_daily_vol  s&p_daily_vol  \\\n",
       "Date                                                                           \n",
       "2018-08-01          7.561348      85.881161          0.285090       0.083101   \n",
       "2018-08-02         -0.333123      82.521365          0.271257       0.086055   \n",
       "2018-08-03         -0.449254      82.581619          0.214106       0.085981   \n",
       "2018-08-06          6.463542      87.849464          0.151643       0.065983   \n",
       "2018-08-07         -5.288330      91.512420          0.164522       0.060471   \n",
       "\n",
       "            nasdaq_daily_vol  google_45d_sta  short_call_sta  short_put_sta  \\\n",
       "Date                                                                          \n",
       "2018-08-01          0.146205       -5.169922             0.0       0.002097   \n",
       "2018-08-02          0.164864       -9.869995             0.0       0.003283   \n",
       "2018-08-03          0.165144      -15.780029             0.0       0.014800   \n",
       "2018-08-06          0.139857       20.780029             0.0      -0.017806   \n",
       "2018-08-07          0.127694       -7.280029             0.0      -0.007514   \n",
       "\n",
       "            short_call  short_put  \n",
       "Date                               \n",
       "2018-08-01         0.0   0.048188  \n",
       "2018-08-02         0.0   0.044905  \n",
       "2018-08-03         0.0   0.030105  \n",
       "2018-08-06         0.0   0.047911  \n",
       "2018-08-07         0.0   0.055425  \n",
       "\n",
       "[5 rows x 44 columns]"
      ]
     },
     "execution_count": 51,
     "metadata": {},
     "output_type": "execute_result"
    }
   ],
   "source": [
    "unscaled_data.head()"
   ]
  },
  {
   "cell_type": "code",
   "execution_count": 52,
   "metadata": {},
   "outputs": [
    {
     "data": {
      "image/png": "[encoded data removed]",
      "text/plain": [
       "<Figure size 432x288 with 1 Axes>"
      ]
     },
     "metadata": {
      "needs_background": "light"
     },
     "output_type": "display_data"
    }
   ],
   "source": [
    "# Plot prediction vs actual call spread\n",
    "plt.plot(unscaled_data['short_call_sta'], label='Stationary call spread')\n",
    "plt.plot(unscaled_seq_predictions['seq_call_prediction'], label='FF predicted')\n",
    "plt.grid\n",
    "plt.legend()\n",
    "plt.show()"
   ]
  },
  {
   "cell_type": "code",
   "execution_count": 53,
   "metadata": {},
   "outputs": [
    {
     "data": {
      "image/png": "[encoded data removed]",
      "text/plain": [
       "<Figure size 432x288 with 1 Axes>"
      ]
     },
     "metadata": {
      "needs_background": "light"
     },
     "output_type": "display_data"
    }
   ],
   "source": [
    "# Plot prediction vs actual call spread\n",
    "plt.plot(unscaled_data['short_put_sta'], label='Stationary put spread')\n",
    "plt.plot(unscaled_seq_predictions['seq_put_prediction'], label='Predicted stationary put spread')\n",
    "plt.legend()\n",
    "plt.show()"
   ]
  },
  {
   "cell_type": "code",
   "execution_count": 11,
   "metadata": {},
   "outputs": [],
   "source": [
    "def reverse_sta(df, sta_column, series):\n",
    "    sum_prediction = []\n",
    "    rolling_sum = 0\n",
    "    for i in df.index:\n",
    "        if rolling_sum == 0:\n",
    "            rolling_sum = series.loc[i]\n",
    "        rolling_sum += df[sta_column].loc[i]\n",
    "        sum_prediction.append(rolling_sum)\n",
    "    return sum_prediction"
   ]
  },
  {
   "cell_type": "code",
   "execution_count": 31,
   "metadata": {},
   "outputs": [],
   "source": [
    "seq_call_prediction = reverse_sta(unscaled_seq_predictions,'seq_call_prediction', df.short_call)\n",
    "seq_put_prediction = reverse_sta(unscaled_seq_predictions,'seq_put_prediction', df.short_put)"
   ]
  },
  {
   "cell_type": "code",
   "execution_count": 32,
   "metadata": {},
   "outputs": [
    {
     "data": {
      "text/html": [
       "<div>\n",
       "<style scoped>\n",
       "    .dataframe tbody tr th:only-of-type {\n",
       "        vertical-align: middle;\n",
       "    }\n",
       "\n",
       "    .dataframe tbody tr th {\n",
       "        vertical-align: top;\n",
       "    }\n",
       "\n",
       "    .dataframe thead th {\n",
       "        text-align: right;\n",
       "    }\n",
       "</style>\n",
       "<table border=\"1\" class=\"dataframe\">\n",
       "  <thead>\n",
       "    <tr style=\"text-align: right;\">\n",
       "      <th></th>\n",
       "      <th>seq_call_prediction</th>\n",
       "      <th>seq_put_prediction</th>\n",
       "      <th>short_call</th>\n",
       "      <th>short_put</th>\n",
       "    </tr>\n",
       "    <tr>\n",
       "      <th>Date</th>\n",
       "      <th></th>\n",
       "      <th></th>\n",
       "      <th></th>\n",
       "      <th></th>\n",
       "    </tr>\n",
       "  </thead>\n",
       "  <tbody>\n",
       "    <tr>\n",
       "      <th>2018-08-01</th>\n",
       "      <td>0.004972</td>\n",
       "      <td>0.046836</td>\n",
       "      <td>0.0</td>\n",
       "      <td>0.048188</td>\n",
       "    </tr>\n",
       "    <tr>\n",
       "      <th>2018-08-02</th>\n",
       "      <td>0.009937</td>\n",
       "      <td>0.046592</td>\n",
       "      <td>0.0</td>\n",
       "      <td>0.044905</td>\n",
       "    </tr>\n",
       "    <tr>\n",
       "      <th>2018-08-03</th>\n",
       "      <td>0.005714</td>\n",
       "      <td>0.047961</td>\n",
       "      <td>0.0</td>\n",
       "      <td>0.030105</td>\n",
       "    </tr>\n",
       "    <tr>\n",
       "      <th>2018-08-06</th>\n",
       "      <td>0.010564</td>\n",
       "      <td>0.046516</td>\n",
       "      <td>0.0</td>\n",
       "      <td>0.047911</td>\n",
       "    </tr>\n",
       "    <tr>\n",
       "      <th>2018-08-07</th>\n",
       "      <td>0.024995</td>\n",
       "      <td>0.043667</td>\n",
       "      <td>0.0</td>\n",
       "      <td>0.055425</td>\n",
       "    </tr>\n",
       "  </tbody>\n",
       "</table>\n",
       "</div>"
      ],
      "text/plain": [
       "            seq_call_prediction  seq_put_prediction  short_call  short_put\n",
       "Date                                                                      \n",
       "2018-08-01             0.004972            0.046836         0.0   0.048188\n",
       "2018-08-02             0.009937            0.046592         0.0   0.044905\n",
       "2018-08-03             0.005714            0.047961         0.0   0.030105\n",
       "2018-08-06             0.010564            0.046516         0.0   0.047911\n",
       "2018-08-07             0.024995            0.043667         0.0   0.055425"
      ]
     },
     "execution_count": 32,
     "metadata": {},
     "output_type": "execute_result"
    }
   ],
   "source": [
    "df_predicted = pd.DataFrame(index=unscaled_seq_predictions.index)\n",
    "df_predicted['seq_call_prediction'] = seq_call_prediction\n",
    "df_predicted['seq_put_prediction'] = seq_put_prediction\n",
    "df_predicted = pd.concat([df_predicted,df.short_call],axis=1)\n",
    "df_predicted = pd.concat([df_predicted,df.short_put],axis=1)\n",
    "df_predicted.dropna(inplace=True)\n",
    "df_predicted.head()"
   ]
  },
  {
   "cell_type": "code",
   "execution_count": 33,
   "metadata": {},
   "outputs": [],
   "source": [
    "seq_call_accuracy = np.sqrt(metrics.mean_squared_error(df_predicted.short_call, df_predicted.seq_call_prediction))\n",
    "seq_put_accuracy = np.sqrt(metrics.mean_squared_error(df_predicted.short_put, df_predicted.seq_put_prediction))"
   ]
  },
  {
   "cell_type": "markdown",
   "metadata": {},
   "source": [
    "### LSTM model"
   ]
  },
  {
   "cell_type": "markdown",
   "metadata": {},
   "source": [
    "#### Split into train and test set\n",
    "And here you have to be careful according to https://machinelearningmastery.com/time-series-forecasting-long-short-term-memory-network-python/ :\n",
    "\n",
    "\"A benefit of this type of network is that it can learn and remember over long sequences and does not rely on a pre-specified window lagged observation as input. In Keras, this is referred to as stateful, and involves setting the “stateful” argument to “True” when defining an LSTM layer. By default, an LSTM layer in Keras maintains state between data within one batch. A batch of data is a fixed-sized number of rows from the training dataset that defines how many patterns to process before updating the weights of the network. State in the LSTM layer between batches is cleared by default, therefore we must make the LSTM stateful. This gives us fine-grained control over when state of the LSTM layer is cleared, by calling the reset_states() function.\"\n",
    "\n",
    "But in order to can use \"stateful = True\" the data has to be a multiple of the batch size. Therefore I have to use modulo to get the test size correctly"
   ]
  },
  {
   "cell_type": "code",
   "execution_count": 58,
   "metadata": {},
   "outputs": [],
   "source": [
    "batch_size = 10\n",
    "train_test_split = 0.9\n",
    "x_train, x_test, y_train, y_test, test_data, test_index, x_columns = get_train_test_data(df_sta_scaled, train_test_split, batch_size)"
   ]
  },
  {
   "cell_type": "code",
   "execution_count": 59,
   "metadata": {},
   "outputs": [],
   "source": [
    "x_train=x_train.to_numpy()\n",
    "y_train=y_train.to_numpy()\n",
    "x_test = x_test.to_numpy()\n",
    "y_test = y_test.to_numpy()\n",
    "# Reshape data for (Sample, Timesteps, Features)\n",
    "x_train = x_train.reshape(x_train.shape[0], 1, x_train.shape[1])\n",
    "x_test_reshaped = x_test.reshape(x_test.shape[0], 1, x_test.shape[1])"
   ]
  },
  {
   "cell_type": "code",
   "execution_count": 60,
   "metadata": {},
   "outputs": [
    {
     "name": "stdout",
     "output_type": "stream",
     "text": [
      "_________________________________________________________________\n",
      "Layer (type)                 Output Shape              Param #   \n",
      "=================================================================\n",
      "lstm_1 (LSTM)                (None, 1, 100)            56000     \n",
      "_________________________________________________________________\n",
      "lstm_2 (LSTM)                (None, 100)               80400     \n",
      "_________________________________________________________________\n",
      "dense_9 (Dense)              (None, 2)                 202       \n",
      "=================================================================\n",
      "Total params: 136,602\n",
      "Trainable params: 136,602\n",
      "Non-trainable params: 0\n",
      "_________________________________________________________________\n"
     ]
    }
   ],
   "source": [
    "lstm_model = Sequential()\n",
    "lstm_model.add(LSTM(units=100, input_shape = (x_train.shape[1], x_train.shape[2]), dropout = 0.2, return_sequences=True))#, stateful=True, batch_size=batch_size))\n",
    "lstm_model.add(LSTM(units = 100, dropout = 0.2))#, return_sequences=False, stateful=True, batch_size=batch_size))\n",
    "lstm_model.add(Dense(2))\n",
    "adam = optimizers.Adam(lr=0.005)\n",
    "lstm_model.compile(optimizer = adam, loss='mse')\n",
    "lstm_model.summary()"
   ]
  },
  {
   "cell_type": "code",
   "execution_count": 61,
   "metadata": {},
   "outputs": [
    {
     "name": "stdout",
     "output_type": "stream",
     "text": [
      "WARNING:tensorflow:From /home/matthias/anaconda3/lib/python3.7/site-packages/tensorflow/python/ops/math_grad.py:1250: add_dispatch_support.<locals>.wrapper (from tensorflow.python.ops.array_ops) is deprecated and will be removed in a future version.\n",
      "Instructions for updating:\n",
      "Use tf.where in 2.0, which has the same broadcast rule as np.where\n",
      "Train on 2370 samples, validate on 260 samples\n",
      "Epoch 1/1\n",
      "2370/2370 [==============================] - 4s 2ms/step - loss: 0.0134 - val_loss: 0.0148\n"
     ]
    }
   ],
   "source": [
    "#lstm_model.reset_states()\n",
    "epochs = 1\n",
    "#for i in range(epochs):\n",
    "lstm_model.fit(x_train, y_train, epochs=epochs, batch_size=batch_size, verbose=1, validation_data=(x_test_reshaped, y_test),shuffle=False);\n",
    "#    lstm_model.reset_states()"
   ]
  },
  {
   "cell_type": "code",
   "execution_count": 62,
   "metadata": {},
   "outputs": [
    {
     "name": "stdout",
     "output_type": "stream",
     "text": [
      "2370/2370 [==============================] - 1s 295us/step\n"
     ]
    },
    {
     "data": {
      "text/plain": [
       "0.012757591337342805"
      ]
     },
     "execution_count": 62,
     "metadata": {},
     "output_type": "execute_result"
    }
   ],
   "source": [
    "lstm_model.evaluate(x_train, y_train, batch_size=batch_size)"
   ]
  },
  {
   "cell_type": "code",
   "execution_count": 63,
   "metadata": {},
   "outputs": [
    {
     "data": {
      "text/plain": [
       "<matplotlib.legend.Legend at 0x7fd44b0da048>"
      ]
     },
     "execution_count": 63,
     "metadata": {},
     "output_type": "execute_result"
    },
    {
     "data": {
      "image/png": "[encoded data removed]",
      "text/plain": [
       "<Figure size 432x288 with 1 Axes>"
      ]
     },
     "metadata": {
      "needs_background": "light"
     },
     "output_type": "display_data"
    }
   ],
   "source": [
    "from matplotlib import pyplot\n",
    "plt.plot(history.history['loss'], label='Training Loss')\n",
    "plt.plot(history.history['val_loss'], label='Testing Loss')\n",
    "plt.yscale(\"log\")\n",
    "plt.legend()"
   ]
  },
  {
   "cell_type": "markdown",
   "metadata": {},
   "source": [
    "#### Get predictions"
   ]
  },
  {
   "cell_type": "code",
   "execution_count": 64,
   "metadata": {},
   "outputs": [],
   "source": [
    "def rolling_lstm_prediction(model,x_test,y_test):\n",
    "    predictions = list()\n",
    "    for i in range(len(x_test)):\n",
    "        # make one-step forecast\n",
    "        X = x_test[i,:] # select single line\n",
    "        X = X.reshape(1, 1, len(X))  # reshape for LSTM\n",
    "        y = y_test[i,:]\n",
    "        yhat = lstm_model.predict(X, batch_size=1) # reshape prediction to be just a 1D array\n",
    "        # store forecast\n",
    "        predictions.append(yhat[0])\n",
    "    return predictions"
   ]
  },
  {
   "cell_type": "code",
   "execution_count": 65,
   "metadata": {},
   "outputs": [],
   "source": [
    "# Generate predictions\n",
    "yhat = rolling_lstm_prediction(lstm_model,x_test,y_test);\n",
    "raw_lstm_predictions = pd.DataFrame(yhat,columns = ['lstm_call_prediction','lstm_put_prediction'], index = test_index)"
   ]
  },
  {
   "cell_type": "markdown",
   "metadata": {},
   "source": [
    "#### Convert data"
   ]
  },
  {
   "cell_type": "code",
   "execution_count": 66,
   "metadata": {},
   "outputs": [],
   "source": [
    "x_test = pd.DataFrame(x_test, columns = x_columns, index = test_index)\n",
    "y_test = pd.DataFrame(y_test, columns = ['short_call_sta','short_put_sta'], index = test_index)"
   ]
  },
  {
   "cell_type": "code",
   "execution_count": 67,
   "metadata": {},
   "outputs": [],
   "source": [
    "# Invert scaling for prediction data\n",
    "unscaled_lstm_predictions = pd.concat([x_test, test_data.google_45d_sta], axis=1)\n",
    "unscaled_lstm_predictions = pd.concat([unscaled_lstm_predictions, raw_lstm_predictions], axis=1)\n",
    "unscaled_lstm_predictions = pd.concat([unscaled_lstm_predictions, test_data[['short_call','short_put']]], axis=1)\n",
    "unscaled_lstm_predictions = pd.DataFrame(scaler.inverse_transform(unscaled_lstm_predictions), columns=unscaled_lstm_predictions.columns, index=unscaled_lstm_predictions.index)\n",
    "\n",
    "# Invert scaling for actual data\n",
    "test_data_unscaled = pd.concat([x_test, test_data.google_45d_sta], axis=1)\n",
    "test_data_unscaled = pd.concat([test_data_unscaled, y_test], axis=1)\n",
    "test_data_unscaled = pd.concat([test_data_unscaled, test_data[['short_call','short_put']]], axis=1)\n",
    "test_data_unscaled = pd.DataFrame(scaler.inverse_transform(test_data_unscaled), columns=test_data_unscaled.columns, index=test_data_unscaled.index)"
   ]
  },
  {
   "cell_type": "code",
   "execution_count": 83,
   "metadata": {},
   "outputs": [],
   "source": [
    "backup['unscaled_lstm_predictions'] = unscaled_lstm_predictions\n",
    "backup['test_data_unscaled'] = test_data_unscaled"
   ]
  },
  {
   "cell_type": "code",
   "execution_count": 6,
   "metadata": {
    "scrolled": true
   },
   "outputs": [
    {
     "data": {
      "image/png": "[encoded data removed]",
      "text/plain": [
       "<Figure size 432x288 with 1 Axes>"
      ]
     },
     "metadata": {
      "needs_background": "light"
     },
     "output_type": "display_data"
    }
   ],
   "source": [
    "# Plot prediction vs actual\n",
    "plt.plot(test_data_unscaled['short_call_sta'], label='Stationary short call')\n",
    "plt.plot(unscaled_seq_predictions['seq_call_prediction'], label='FF predicted')\n",
    "plt.plot(unscaled_lstm_predictions['lstm_call_prediction'], label='LSTM predicted')\n",
    "plt.grid()\n",
    "plt.legend()\n",
    "plt.show()"
   ]
  },
  {
   "cell_type": "code",
   "execution_count": 7,
   "metadata": {},
   "outputs": [
    {
     "data": {
      "image/png": "[encoded data removed]",
      "text/plain": [
       "<Figure size 432x288 with 1 Axes>"
      ]
     },
     "metadata": {
      "needs_background": "light"
     },
     "output_type": "display_data"
    }
   ],
   "source": [
    "# Plot prediction vs actual\n",
    "plt.plot(test_data_unscaled['short_put_sta'], label='Stationary short put')\n",
    "plt.plot(unscaled_seq_predictions['seq_put_prediction'], label='FF predicted')\n",
    "plt.plot(unscaled_lstm_predictions['lstm_put_prediction'], label='LSTM predicted')\n",
    "plt.grid()\n",
    "plt.legend()\n",
    "plt.show()"
   ]
  },
  {
   "cell_type": "code",
   "execution_count": 30,
   "metadata": {},
   "outputs": [],
   "source": [
    "lstm_call_prediction = reverse_sta(unscaled_lstm_predictions,'lstm_call_prediction', df.short_call)\n",
    "lstm_put_prediction = reverse_sta(unscaled_lstm_predictions,'lstm_put_prediction', df.short_put)"
   ]
  },
  {
   "cell_type": "code",
   "execution_count": 34,
   "metadata": {},
   "outputs": [
    {
     "data": {
      "text/html": [
       "<div>\n",
       "<style scoped>\n",
       "    .dataframe tbody tr th:only-of-type {\n",
       "        vertical-align: middle;\n",
       "    }\n",
       "\n",
       "    .dataframe tbody tr th {\n",
       "        vertical-align: top;\n",
       "    }\n",
       "\n",
       "    .dataframe thead th {\n",
       "        text-align: right;\n",
       "    }\n",
       "</style>\n",
       "<table border=\"1\" class=\"dataframe\">\n",
       "  <thead>\n",
       "    <tr style=\"text-align: right;\">\n",
       "      <th></th>\n",
       "      <th>seq_call_prediction</th>\n",
       "      <th>seq_put_prediction</th>\n",
       "      <th>short_call</th>\n",
       "      <th>short_put</th>\n",
       "      <th>lstm_call_prediction</th>\n",
       "      <th>lstm_put_prediction</th>\n",
       "    </tr>\n",
       "    <tr>\n",
       "      <th>Date</th>\n",
       "      <th></th>\n",
       "      <th></th>\n",
       "      <th></th>\n",
       "      <th></th>\n",
       "      <th></th>\n",
       "      <th></th>\n",
       "    </tr>\n",
       "  </thead>\n",
       "  <tbody>\n",
       "    <tr>\n",
       "      <th>2018-08-01</th>\n",
       "      <td>0.004972</td>\n",
       "      <td>0.046836</td>\n",
       "      <td>0.0</td>\n",
       "      <td>0.048188</td>\n",
       "      <td>0.001577</td>\n",
       "      <td>0.046385</td>\n",
       "    </tr>\n",
       "    <tr>\n",
       "      <th>2018-08-02</th>\n",
       "      <td>0.009937</td>\n",
       "      <td>0.046592</td>\n",
       "      <td>0.0</td>\n",
       "      <td>0.044905</td>\n",
       "      <td>0.006080</td>\n",
       "      <td>0.043392</td>\n",
       "    </tr>\n",
       "    <tr>\n",
       "      <th>2018-08-03</th>\n",
       "      <td>0.005714</td>\n",
       "      <td>0.047961</td>\n",
       "      <td>0.0</td>\n",
       "      <td>0.030105</td>\n",
       "      <td>0.004188</td>\n",
       "      <td>0.043398</td>\n",
       "    </tr>\n",
       "    <tr>\n",
       "      <th>2018-08-06</th>\n",
       "      <td>0.010564</td>\n",
       "      <td>0.046516</td>\n",
       "      <td>0.0</td>\n",
       "      <td>0.047911</td>\n",
       "      <td>0.004331</td>\n",
       "      <td>0.041940</td>\n",
       "    </tr>\n",
       "    <tr>\n",
       "      <th>2018-08-07</th>\n",
       "      <td>0.024995</td>\n",
       "      <td>0.043667</td>\n",
       "      <td>0.0</td>\n",
       "      <td>0.055425</td>\n",
       "      <td>0.014560</td>\n",
       "      <td>0.036487</td>\n",
       "    </tr>\n",
       "  </tbody>\n",
       "</table>\n",
       "</div>"
      ],
      "text/plain": [
       "            seq_call_prediction  seq_put_prediction  short_call  short_put  \\\n",
       "Date                                                                         \n",
       "2018-08-01             0.004972            0.046836         0.0   0.048188   \n",
       "2018-08-02             0.009937            0.046592         0.0   0.044905   \n",
       "2018-08-03             0.005714            0.047961         0.0   0.030105   \n",
       "2018-08-06             0.010564            0.046516         0.0   0.047911   \n",
       "2018-08-07             0.024995            0.043667         0.0   0.055425   \n",
       "\n",
       "            lstm_call_prediction  lstm_put_prediction  \n",
       "Date                                                   \n",
       "2018-08-01              0.001577             0.046385  \n",
       "2018-08-02              0.006080             0.043392  \n",
       "2018-08-03              0.004188             0.043398  \n",
       "2018-08-06              0.004331             0.041940  \n",
       "2018-08-07              0.014560             0.036487  "
      ]
     },
     "execution_count": 34,
     "metadata": {},
     "output_type": "execute_result"
    }
   ],
   "source": [
    "df_predicted['lstm_call_prediction'] = lstm_call_prediction\n",
    "df_predicted['lstm_put_prediction'] = lstm_put_prediction\n",
    "df_predicted.dropna(inplace=True)\n",
    "df_predicted.head()"
   ]
  },
  {
   "cell_type": "code",
   "execution_count": 40,
   "metadata": {},
   "outputs": [
    {
     "data": {
      "image/png": "[encoded data removed]",
      "text/plain": [
       "<Figure size 432x288 with 1 Axes>"
      ]
     },
     "metadata": {
      "needs_background": "light"
     },
     "output_type": "display_data"
    }
   ],
   "source": [
    "# plot short call sprad and predictions\n",
    "plt.plot(df_predicted.short_call, label = 'Call spread')\n",
    "plt.plot(df_predicted.seq_call_prediction, label = 'FF prediction')\n",
    "plt.plot(df_predicted.lstm_call_prediction, label = 'LSTM prediction')\n",
    "plt.xlabel('Date')\n",
    "plt.ylabel('USD')\n",
    "plt.grid()\n",
    "plt.legend()\n",
    "plt.show()"
   ]
  },
  {
   "cell_type": "code",
   "execution_count": 41,
   "metadata": {},
   "outputs": [
    {
     "data": {
      "image/png": "[encoded data removed]",
      "text/plain": [
       "<Figure size 432x288 with 1 Axes>"
      ]
     },
     "metadata": {
      "needs_background": "light"
     },
     "output_type": "display_data"
    }
   ],
   "source": [
    "# plot short call sprad and predictions\n",
    "plt.plot(df_predicted.short_put, label = 'Put spread')\n",
    "plt.plot(df_predicted.seq_put_prediction, label = 'FF prediction')\n",
    "plt.plot(df_predicted.lstm_put_prediction, label = 'LSTM prediction')\n",
    "plt.xlabel('Date')\n",
    "plt.ylabel('USD')\n",
    "plt.grid()\n",
    "plt.legend()\n",
    "plt.show()"
   ]
  },
  {
   "cell_type": "code",
   "execution_count": 23,
   "metadata": {},
   "outputs": [],
   "source": [
    "backup['df_predicted'] = df_predicted"
   ]
  },
  {
   "cell_type": "code",
   "execution_count": 42,
   "metadata": {},
   "outputs": [],
   "source": [
    "backup.close()"
   ]
  },
  {
   "cell_type": "code",
   "execution_count": 38,
   "metadata": {},
   "outputs": [
    {
     "name": "stdout",
     "output_type": "stream",
     "text": [
      "Accuracy for short call spread of FF model is 0.0853 and of LSTM model is 0.299 \n",
      "Accuracy for short put spread of FF model is 0.087 and of LSTM model is 0.258\n"
     ]
    }
   ],
   "source": [
    "lstm_call_accuracy=np.sqrt(metrics.mean_squared_error(df_predicted.short_call, df_predicted.lstm_call_prediction))\n",
    "lstm_put_accuracy=np.sqrt(metrics.mean_squared_error(df_predicted.short_put, df_predicted.lstm_put_prediction))\n",
    "print('Accuracy for short call spread of FF model is {} and of LSTM model is {} \\nAccuracy for short put spread of FF model is {} and of LSTM model is {}'.format(round(seq_call_accuracy,4), round(lstm_call_accuracy,4), round(seq_put_accuracy,4), round(lstm_put_accuracy,4)))"
   ]
  },
  {
   "cell_type": "code",
   "execution_count": null,
   "metadata": {},
   "outputs": [],
   "source": []
  }
 ],
 "metadata": {
  "kernelspec": {
   "display_name": "Python 3",
   "language": "python",
   "name": "python3"
  },
  "language_info": {
   "codemirror_mode": {
    "name": "ipython",
    "version": 3
   },
   "file_extension": ".py",
   "mimetype": "text/x-python",
   "name": "python",
   "nbconvert_exporter": "python",
   "pygments_lexer": "ipython3",
   "version": "3.7.3"
  }
 },
 "nbformat": 4,
 "nbformat_minor": 2
}
